{
 "cells": [
  {
   "cell_type": "code",
   "execution_count": 2,
   "id": "dd15c228",
   "metadata": {},
   "outputs": [
    {
     "name": "stderr",
     "output_type": "stream",
     "text": [
      "No data found for target \"TIC 235684392\".\n",
      "No data found for target \"TIC 235684392\".\n",
      "No data found for target \"TIC 233719215\".\n",
      "No data found for target \"TIC 233719215\".\n",
      "No data found for target \"TIC 233053554\".\n",
      "No data found for target \"TIC 233053554\".\n",
      "/Users/anahitasrinivasan/opt/anaconda3/lib/python3.9/site-packages/lightkurve/collections.py:212: LightkurveWarning: The following columns will be excluded from stitching because the column types are incompatible: {'kspsap_flux_lag'}\n",
      "  warnings.warn(\n",
      "No data found for target \"TIC 232567319\".\n",
      "No data found for target \"TIC 230388132\".\n",
      "No data found for target \"TIC 230388132\".\n",
      "No data found for target \"TIC 229639351\".\n",
      "No data found for target \"TIC 229639351\".\n",
      "No data found for target \"TIC 229605891\".\n",
      "No data found for target \"TIC 229605891\".\n",
      "No data found for target \"TIC 229508727\".\n",
      "No data found for target \"TIC 229508727\".\n",
      "No data found for target \"TIC 224601047\".\n",
      "No data found for target \"TIC 224601047\".\n",
      "No data found for target \"TIC 219866209\".\n",
      "No data found for target \"TIC 219866209\".\n",
      "No data found for target \"TIC 219499488\".\n",
      "No data found for target \"TIC 219499488\".\n",
      "No data found for target \"TIC 219489550\".\n",
      "No data found for target \"TIC 219485050\".\n",
      "No data found for target \"TIC 193556520\".\n",
      "No data found for target \"TIC 193556520\".\n",
      "No data found for target \"TIC 162577466\".\n",
      "No data found for target \"TIC 162577466\".\n",
      "No data found for target \"TIC 159334269\".\n",
      "No data found for target \"TIC 159334269\".\n",
      "No data found for target \"TIC 143009290\".\n",
      "No data found for target \"TIC 143009290\".\n",
      "No data found for target \"TIC 115270627\".\n",
      "No data found for target \"TIC 115270627\".\n",
      "No data found for target \"TIC 85459171\".\n",
      "No data found for target \"TIC 85459171\".\n",
      "No data found for target \"TIC 648958344\".\n",
      "No data found for target \"TIC 628103717\".\n",
      "No data found for target \"TIC 628103717\".\n",
      "No data found for target \"TIC 627323667\".\n",
      "No data found for target \"TIC 627323667\".\n",
      "No data found for target \"TIC 57193198\".\n",
      "No data found for target \"TIC 57193198\".\n",
      "No data found for target \"TIC 57159675\".\n",
      "No data found for target \"TIC 444724127\".\n",
      "No data found for target \"TIC 444724127\".\n",
      "No data found for target \"TIC 444558604\".\n",
      "No data found for target \"TIC 444558604\".\n",
      "No data found for target \"TIC 421973253\".\n",
      "No data found for target \"TIC 400899926\".\n",
      "No data found for target \"TIC 400899926\".\n",
      "No data found for target \"TIC 399444057\".\n",
      "No data found for target \"TIC 346673534\".\n",
      "No data found for target \"TIC 346673534\".\n",
      "No data found for target \"TIC 336840314\".\n",
      "No data found for target \"TIC 298752252\".\n",
      "No data found for target \"TIC 298752252\".\n",
      "No data found for target \"TIC 289373041\".\n",
      "No data found for target \"TIC 289373041\".\n",
      "No data found for target \"TIC 289316336\".\n",
      "No data found for target \"TIC 288242606\".\n",
      "No data found for target \"TIC 288242606\".\n",
      "No data found for target \"TIC 284454822\".\n",
      "No data found for target \"TIC 280035202\".\n",
      "No data found for target \"TIC 274974693\".\n",
      "No data found for target \"TIC 272782321\".\n",
      "No data found for target \"TIC 264295655\".\n",
      "No data found for target \"TIC 264223828\".\n",
      "No data found for target \"TIC 243297296\".\n",
      "No data found for target \"TIC 243297296\".\n",
      "No data found for target \"TIC 243280335\".\n",
      "No data found for target \"TIC 243280335\".\n",
      "No data found for target \"TIC 235664497\".\n",
      "No data found for target \"TIC 235664497\".\n",
      "No data found for target \"TIC 233576159\".\n",
      "No data found for target \"TIC 232632239\".\n",
      "No data found for target \"TIC 232632239\".\n",
      "No data found for target \"TIC 230006888\".\n",
      "No data found for target \"TIC 230006888\".\n"
     ]
    },
    {
     "name": "stdout",
     "output_type": "stream",
     "text": [
      "An error occured with TIC 230006888 item 4158\n",
      "An error occured with TIC 229786610 item 4160\n"
     ]
    },
    {
     "name": "stderr",
     "output_type": "stream",
     "text": [
      "No data found for target \"TIC 229408913\".\n",
      "No data found for target \"TIC 229408913\".\n",
      "/Users/anahitasrinivasan/opt/anaconda3/lib/python3.9/site-packages/lightkurve/collections.py:212: LightkurveWarning: The following columns will be excluded from stitching because the column types are incompatible: {'sap_flux', 'kspsap_flux', 'kspsap_flux_sml', 'kspsap_flux_lag'}\n",
      "  warnings.warn(\n",
      "No data found for target \"TIC 199610140\".\n",
      "No data found for target \"TIC 198616607\".\n",
      "No data found for target \"TIC 198616607\".\n",
      "No data found for target \"TIC 193773468\".\n",
      "No data found for target \"TIC 193773468\".\n",
      "No data found for target \"TIC 160618074\".\n",
      "No data found for target \"TIC 160618074\".\n",
      "No data found for target \"TIC 159438097\".\n",
      "No data found for target \"TIC 157218656\".\n",
      "No data found for target \"TIC 156215204\".\n",
      "No data found for target \"TIC 156215204\".\n",
      "No data found for target \"TIC 153896150\".\n",
      "No data found for target \"TIC 150761163\".\n",
      "No data found for target \"TIC 150761163\".\n",
      "No data found for target \"TIC 147761049\".\n",
      "No data found for target \"TIC 147761049\".\n",
      "No data found for target \"TIC 141616639\".\n"
     ]
    },
    {
     "name": "stdout",
     "output_type": "stream",
     "text": [
      "An error occured with TIC 141488193 item 4174\n"
     ]
    },
    {
     "name": "stderr",
     "output_type": "stream",
     "text": [
      "No data found for target \"TIC 123357034\".\n",
      "No data found for target \"TIC 71396541\".\n",
      "No data found for target \"TIC 47937361\".\n",
      "No data found for target \"TIC 47937361\".\n",
      "No data found for target \"TIC 468396217\".\n",
      "No data found for target \"TIC 468396217\".\n",
      "No data found for target \"TIC 288471040\".\n",
      "No data found for target \"TIC 420680343\".\n",
      "No data found for target \"TIC 417646390\".\n",
      "No data found for target \"TIC 408729765\".\n",
      "No data found for target \"TIC 408729765\".\n",
      "No data found for target \"TIC 400093775\".\n",
      "No data found for target \"TIC 400093775\".\n",
      "No data found for target \"TIC 39573090\".\n",
      "No data found for target \"TIC 39573090\".\n",
      "No data found for target \"TIC 371711170\".\n",
      "No data found for target \"TIC 371711170\".\n",
      "No data found for target \"TIC 279947414\".\n",
      "No data found for target \"TIC 138329479\".\n",
      "No data found for target \"TIC 138329479\".\n",
      "No data found for target \"TIC 137157546\".\n",
      "No data found for target \"TIC 103096524\".\n",
      "No data found for target \"TIC 103096524\".\n",
      "No data found for target \"TIC 102719996\".\n",
      "No data found for target \"TIC 102719996\".\n",
      "No data found for target \"TIC 406926040\".\n",
      "No data found for target \"TIC 1813844121\".\n",
      "No data found for target \"TIC 1813844121\".\n"
     ]
    }
   ],
   "source": [
    "#NOTE: an explanation of the relevant method here is in the README file for this repository\n",
    "\n",
    "#FINAL METHOD\n",
    "#change method based on duration_hours and fractional_duration\n",
    "#change time-bin size and size of the phase mask\n",
    "#catch AttributeError and TimeDivisionError\n",
    "#uses minmax normalization for all curves\n",
    "#downloads curves to a file on desktop; closes figures once completer \n",
    "\n",
    "import lightkurve as lk\n",
    "import numpy as np\n",
    "import matplotlib.pyplot as plt\n",
    "%matplotlib inline\n",
    "import csv\n",
    "\n",
    "data = \"finaldata.csv\"\n",
    "fields = []\n",
    "rows = []\n",
    "\n",
    "with open(data, 'r') as file:\n",
    "    read = csv.reader(file)\n",
    "    fields = next(read)\n",
    "    for row in read:\n",
    "        rows.append(row)\n",
    "\n",
    "path = \"/Users/anahitasrinivasan/Desktop/UROP Items/Lightcurves/\"\n",
    "author = \"\"\n",
    "\n",
    "for x in range(4100, 4200):\n",
    "    try:\n",
    "        TOI_name = \"TIC \" + rows[x][fields.index(\"TIC ID\")] \n",
    "        period = float(rows[x][fields.index(\"Period (days)\")])\n",
    "        t0 = float(rows[x][fields.index(\"Epoch (BJD)\")])\n",
    "        duration_hours = float(rows[x][fields.index(\"Duration (hours)\")])\n",
    "        fractional_duration = (duration_hours / 24.0) / period\n",
    "\n",
    "        if(duration_hours < 3.0): \n",
    "            \n",
    "            if(fractional_duration < 0.004): \n",
    "                search_result = lk.search_lightcurve(TOI_name, author=\"SPOC\", exptime=120)\n",
    "                author = \"SPOC\"\n",
    "                if(len(search_result) == 0):\n",
    "                    search_result = lk.search_lightcurve(TOI_name, author=\"TESS-SPOC\", exptime=1800)\n",
    "                    author = \"TESSSPOC\"\n",
    "                    if(len(search_result) == 0):\n",
    "                        search_result = lk.search_lightcurve(TOI_name, author=\"QLP\", exptime=1800)\n",
    "                        author = \"QLP\"\n",
    "\n",
    "                lcs = search_result.download_all() \n",
    "                lc_raw = lcs.stitch() \n",
    "\n",
    "                lc_clean = lc_raw.remove_outliers(sigma=20, sigma_upper=4) \n",
    "\n",
    "                temp_fold = lc_clean.fold(period, epoch_time=(t0-2457000))\n",
    "\n",
    "                fractional_duration = (duration_hours / 24.0) / period\n",
    "\n",
    "                phase_mask = (temp_fold.phase > -300*fractional_duration) & (temp_fold.phase < 300.0*fractional_duration)\n",
    "                lc_zoom = temp_fold[phase_mask]\n",
    "\n",
    "                lc_local = lc_zoom.bin(time_bin_size=0.0008)\n",
    "                lc_local = (lc_local - np.abs(np.nanmin(lc_local.flux))) / (np.abs(np.nanmax(lc_local.flux)) - np.abs(np.nanmin(lc_local.flux)))\n",
    "                \n",
    "                fig, axes = plt.subplots()\n",
    "                lc_local.scatter(ax=axes, color=\"black\")\n",
    "                fig.savefig(path + \"fig\" + str(x) + author + \".pdf\")\n",
    "                plt.close()\n",
    "            \n",
    "            if(fractional_duration < 0.01):\n",
    "                search_result = lk.search_lightcurve(TOI_name, author=\"SPOC\", exptime=120)\n",
    "                author = \"SPOC\"\n",
    "                if(len(search_result) == 0):\n",
    "                    search_result = lk.search_lightcurve(TOI_name, author=\"TESS-SPOC\", exptime=1800)\n",
    "                    author = \"TESSSPOC\"\n",
    "                    if(len(search_result) == 0):\n",
    "                        search_result = lk.search_lightcurve(TOI_name, author=\"QLP\", exptime=1800)\n",
    "                        author = \"QLP\"\n",
    "\n",
    "                lcs = search_result.download_all() \n",
    "                lc_raw = lcs.stitch() \n",
    "\n",
    "                lc_clean = lc_raw.remove_outliers(sigma=20, sigma_upper=4) \n",
    "\n",
    "                temp_fold = lc_clean.fold(period, epoch_time=(t0-2457000))\n",
    "\n",
    "                fractional_duration = (duration_hours / 24.0) / period\n",
    "\n",
    "                phase_mask = (temp_fold.phase > -15*fractional_duration) & (temp_fold.phase < 15.0*fractional_duration)\n",
    "                lc_zoom = temp_fold[phase_mask]\n",
    "\n",
    "                lc_local = lc_zoom.bin(time_bin_size=0.0044) \n",
    "                lc_local = (lc_local - np.abs(np.nanmin(lc_local.flux))) / (np.abs(np.nanmax(lc_local.flux)) - np.abs(np.nanmin(lc_local.flux)))\n",
    "                \n",
    "                fig, axes = plt.subplots()\n",
    "                lc_local.scatter(ax=axes, color=\"black\")\n",
    "                fig.savefig(path + \"fig\" + str(x) + author + \".pdf\")\n",
    "                plt.close()\n",
    "            \n",
    "            elif(fractional_duration < 0.04):\n",
    "                search_result = lk.search_lightcurve(TOI_name, author=\"SPOC\", exptime=120)\n",
    "                author = \"SPOC\"\n",
    "                if(len(search_result) == 0):\n",
    "                    search_result = lk.search_lightcurve(TOI_name, author=\"TESS-SPOC\", exptime=1800)\n",
    "                    author = \"TESSSPOC\"\n",
    "                    if(len(search_result) == 0):\n",
    "                        search_result = lk.search_lightcurve(TOI_name, author=\"QLP\", exptime=1800)\n",
    "                        author = \"QLP\"\n",
    "\n",
    "                lcs = search_result.download_all() \n",
    "                lc_raw = lcs.stitch() \n",
    "\n",
    "                lc_clean = lc_raw.remove_outliers(sigma=20, sigma_upper=4) \n",
    "\n",
    "                temp_fold = lc_clean.fold(period, epoch_time=(t0-2457000))\n",
    "\n",
    "                fractional_duration = (duration_hours / 24.0) / period\n",
    "\n",
    "                phase_mask = (temp_fold.phase > -4*fractional_duration) & (temp_fold.phase < 4.0*fractional_duration) \n",
    "                lc_zoom = temp_fold[phase_mask]\n",
    "\n",
    "                lc_local = lc_zoom.bin(time_bin_size=0.0008)\n",
    "                lc_local = (lc_local - np.abs(np.nanmin(lc_local.flux))) / (np.abs(np.nanmax(lc_local.flux)) - np.abs(np.nanmin(lc_local.flux)))\n",
    "                \n",
    "                fig, axes = plt.subplots()\n",
    "                lc_local.scatter(ax=axes, color=\"black\")\n",
    "                fig.savefig(path + \"fig\" + str(x) + author + \".pdf\")\n",
    "                plt.close()\n",
    "            \n",
    "            else:\n",
    "                search_result = lk.search_lightcurve(TOI_name, author=\"TESS-SPOC\", exptime=1800)\n",
    "                author = \"TESSSPOC\"\n",
    "                if(len(search_result) == 0):\n",
    "                    search_result = lk.search_lightcurve(TOI_name, author=\"SPOC\", exptime=120)\n",
    "                    author = \"SPOC\"\n",
    "                    if(len(search_result) == 0):\n",
    "                        search_result = lk.search_lightcurve(TOI_name, author=\"QLP\", exptime=1800)\n",
    "                        author = \"QLP\"\n",
    "\n",
    "                lcs = search_result.download_all() \n",
    "                lc_raw = lcs.stitch() \n",
    "\n",
    "                lc_clean = lc_raw.remove_outliers(sigma=20, sigma_upper=4) \n",
    "\n",
    "                temp_fold = lc_clean.fold(period, epoch_time=(t0-2457000))\n",
    "\n",
    "                fractional_duration = (duration_hours / 24.0) / period\n",
    "\n",
    "                phase_mask = np.abs(temp_fold.phase.value) < (fractional_duration * 1.5)\n",
    "                transit_mask = np.in1d(lc_clean.time.value, temp_fold.time_original.value[phase_mask])\n",
    "\n",
    "                lc_flat = lc_clean.flatten(mask=transit_mask)\n",
    "\n",
    "                lc_fold = lc_flat.fold(period, epoch_time=(t0-2457000))\n",
    "\n",
    "                lc_global = lc_fold.bin(time_bin_size=0.0008)\n",
    "\n",
    "                phase_mask = (lc_fold.phase > -15*fractional_duration) & (lc_fold.phase < 15.0*fractional_duration) \n",
    "                lc_zoom = lc_fold[phase_mask]\n",
    "\n",
    "                lc_local = lc_zoom.bin(time_bin_size=0.0008)  \n",
    "                lc_local = (lc_local - np.abs(np.nanmin(lc_local.flux))) / (np.abs(np.nanmax(lc_local.flux)) - np.abs(np.nanmin(lc_local.flux)))\n",
    "\n",
    "                fig, axes = plt.subplots()\n",
    "                lc_local.scatter(ax=axes, color=\"black\")\n",
    "                fig.savefig(path + \"fig\" + str(x) + author + \".pdf\")\n",
    "                plt.close()\n",
    "    \n",
    "        elif(duration_hours < 5.0):\n",
    "            search_result = lk.search_lightcurve(TOI_name, author=\"SPOC\", exptime=120)\n",
    "            author = \"SPOC\"\n",
    "            if(len(search_result) == 0):\n",
    "                search_result = lk.search_lightcurve(TOI_name, author=\"TESS-SPOC\", exptime=1800)\n",
    "                author = \"TESSSPOC\"\n",
    "                if(len(search_result) == 0):\n",
    "                    search_result = lk.search_lightcurve(TOI_name, author=\"QLP\", exptime=1800)\n",
    "                    author = \"QLP\"\n",
    "\n",
    "            lcs = search_result.download_all() \n",
    "            lc_raw = lcs.stitch() \n",
    "\n",
    "            lc_clean = lc_raw.remove_outliers(sigma=20, sigma_upper=4) \n",
    "\n",
    "            temp_fold = lc_clean.fold(period, epoch_time=(t0-2457000))\n",
    "\n",
    "            fractional_duration = (duration_hours / 24.0) / period\n",
    "\n",
    "            phase_mask = (temp_fold.phase > -25*fractional_duration) & (temp_fold.phase < 25.0*fractional_duration) \n",
    "            lc_zoom = temp_fold[phase_mask]\n",
    "\n",
    "            lc_local = lc_zoom.bin(time_bin_size=0.0008)\n",
    "            lc_local = (lc_local - np.abs(np.nanmin(lc_local.flux))) / (np.abs(np.nanmax(lc_local.flux)) - np.abs(np.nanmin(lc_local.flux)))\n",
    "            \n",
    "            fig, axes = plt.subplots()\n",
    "            lc_local.scatter(ax=axes, color=\"black\")\n",
    "            fig.savefig(path + \"fig\" + str(x) + author + \".pdf\")\n",
    "            plt.close()\n",
    "        \n",
    "        else:\n",
    "            if(fractional_duration < 0.02):\n",
    "                search_result = lk.search_lightcurve(TOI_name, author=\"TESS-SPOC\", exptime=1800)\n",
    "                author = \"TESSSPOC\"\n",
    "                if(len(search_result) == 0):\n",
    "                    search_result = lk.search_lightcurve(TOI_name, author=\"SPOC\", exptime=120)\n",
    "                    author = \"SPOC\"\n",
    "                    if(len(search_result) == 0):\n",
    "                        search_result = lk.search_lightcurve(TOI_name, author=\"QLP\", exptime=1800)\n",
    "                        author = \"QLP\"\n",
    "\n",
    "                lcs = search_result.download_all() \n",
    "                lc_raw = lcs.stitch() \n",
    "\n",
    "                lc_clean = lc_raw.remove_outliers(sigma=20, sigma_upper=4) \n",
    "\n",
    "                temp_fold = lc_clean.fold(period, epoch_time=(t0-2457000))\n",
    "\n",
    "                fractional_duration = (duration_hours / 24.0) / period\n",
    "\n",
    "                phase_mask = (temp_fold.phase > -300*fractional_duration) & (temp_fold.phase < 300.0*fractional_duration)\n",
    "                lc_zoom = temp_fold[phase_mask]\n",
    "\n",
    "                lc_local = lc_zoom.bin(time_bin_size=0.0008)\n",
    "                lc_local = (lc_local - np.abs(np.nanmin(lc_local.flux))) / (np.abs(np.nanmax(lc_local.flux)) - np.abs(np.nanmin(lc_local.flux)))\n",
    "                \n",
    "                fig, axes = plt.subplots()\n",
    "                lc_local.scatter(ax=axes, color=\"black\")\n",
    "                fig.savefig(path + \"fig\" + str(x) + author + \".pdf\")\n",
    "                plt.close()\n",
    "                \n",
    "            else:\n",
    "                search_result = lk.search_lightcurve(TOI_name, author=\"TESS-SPOC\", exptime=1800)\n",
    "                author = \"TESSSPOC\"\n",
    "                if(len(search_result) == 0):\n",
    "                    search_result = lk.search_lightcurve(TOI_name, author=\"SPOC\", exptime=120)\n",
    "                    author = \"SPOC\"\n",
    "                    if(len(search_result) == 0):\n",
    "                        search_result = lk.search_lightcurve(TOI_name, author=\"QLP\", exptime=1800)\n",
    "                        author = \"QLP\"\n",
    "\n",
    "                lcs = search_result.download_all() \n",
    "                lc_raw = lcs.stitch() \n",
    "\n",
    "                lc_clean = lc_raw.remove_outliers(sigma=20, sigma_upper=4) \n",
    "\n",
    "                temp_fold = lc_clean.fold(period, epoch_time=(t0-2457000))\n",
    "\n",
    "                fractional_duration = (duration_hours / 24.0) / period\n",
    "\n",
    "                phase_mask = np.abs(temp_fold.phase.value) < (fractional_duration * 1.5)\n",
    "                transit_mask = np.in1d(lc_clean.time.value, temp_fold.time_original.value[phase_mask])\n",
    "\n",
    "                lc_flat = lc_clean.flatten(mask=transit_mask)\n",
    "\n",
    "                lc_fold = lc_flat.fold(period, epoch_time=(t0-2457000))\n",
    "\n",
    "                lc_global = lc_fold.bin(time_bin_size=0.0008) \n",
    "\n",
    "                phase_mask = (lc_fold.phase > -15*fractional_duration) & (lc_fold.phase < 15.0*fractional_duration) \n",
    "                lc_zoom = lc_fold[phase_mask]\n",
    "\n",
    "                lc_local = lc_zoom.bin(time_bin_size=0.0008)  \n",
    "                lc_local = (lc_local - np.abs(np.nanmin(lc_local.flux))) / (np.abs(np.nanmax(lc_local.flux)) - np.abs(np.nanmin(lc_local.flux)))\n",
    "                \n",
    "                fig, axes = plt.subplots()\n",
    "                lc_local.scatter(ax=axes, color=\"black\")\n",
    "                fig.savefig(path + \"fig\" + str(x) + author + \".pdf\")\n",
    "                plt.close()\n",
    "    \n",
    "    except AttributeError:\n",
    "        print(\"AttributeError occured with\", TOI_name, \"item\", str(x))\n",
    "    except ZeroDivisionError:\n",
    "        print(\"ZeroDivisionError occured with\", TOI_name, \"item\", str(x))\n",
    "    except:\n",
    "        print(\"An error occured with\", TOI_name, \"item\", str(x))"
   ]
  },
  {
   "cell_type": "code",
   "execution_count": 1,
   "id": "c1ff9cce",
   "metadata": {},
   "outputs": [
    {
     "name": "stderr",
     "output_type": "stream",
     "text": [
      "No data found for target \"TIC 1405997635\".\n",
      "No data found for target \"TIC 1405997635\".\n",
      "No data found for target \"TIC 1405997635\".\n",
      "/Users/anahitasrinivasan/opt/anaconda3/lib/python3.9/site-packages/lightkurve/search.py:414: LightkurveWarning: Cannot download from an empty search result.\n",
      "  warnings.warn(\n"
     ]
    },
    {
     "name": "stdout",
     "output_type": "stream",
     "text": [
      "AttributeError occured with TIC 1405997635 item 4466\n"
     ]
    },
    {
     "name": "stderr",
     "output_type": "stream",
     "text": [
      "No data found for target \"TIC 1234810324\".\n",
      "No data found for target \"TIC 1234810324\".\n",
      "No data found for target \"TIC 1234810324\".\n",
      "/Users/anahitasrinivasan/opt/anaconda3/lib/python3.9/site-packages/lightkurve/search.py:414: LightkurveWarning: Cannot download from an empty search result.\n",
      "  warnings.warn(\n"
     ]
    },
    {
     "name": "stdout",
     "output_type": "stream",
     "text": [
      "AttributeError occured with TIC 1234810324 item 4467\n"
     ]
    },
    {
     "name": "stderr",
     "output_type": "stream",
     "text": [
      "No data found for target \"TIC 208297760\".\n",
      "No data found for target \"TIC 263748033\".\n",
      "No data found for target \"TIC 326386495\".\n",
      "No data found for target \"TIC 106940971\".\n",
      "No data found for target \"TIC 271042217\".\n",
      "No data found for target \"TIC 362222177\".\n"
     ]
    },
    {
     "name": "stdout",
     "output_type": "stream",
     "text": [
      "An error occured with TIC 362222177 item 4482\n"
     ]
    },
    {
     "name": "stderr",
     "output_type": "stream",
     "text": [
      "No data found for target \"TIC 121660904\".\n",
      "No data found for target \"TIC 158551257\".\n",
      "No data found for target \"TIC 138359318\".\n",
      "No data found for target \"TIC 243333538\".\n",
      "No data found for target \"TIC 461635621\".\n",
      "No data found for target \"TIC 8599009\".\n",
      "No data found for target \"TIC 441589581\".\n",
      "No data found for target \"TIC 441589581\".\n"
     ]
    },
    {
     "name": "stdout",
     "output_type": "stream",
     "text": [
      "ZeroDivisionError occured with TIC 157236902 item 4518\n"
     ]
    },
    {
     "name": "stderr",
     "output_type": "stream",
     "text": [
      "No data found for target \"TIC 63211674\".\n",
      "No data found for target \"TIC 399794420\".\n",
      "No data found for target \"TIC 209752908\".\n",
      "No data found for target \"TIC 268924036\".\n",
      "No data found for target \"TIC 193336820\".\n",
      "No data found for target \"TIC 298297931\".\n",
      "No data found for target \"TIC 263218688\".\n",
      "No data found for target \"TIC 263218688\".\n",
      "No data found for target \"TIC 40466976\".\n",
      "No data found for target \"TIC 40466976\".\n",
      "No data found for target \"TIC 275758701\".\n",
      "No data found for target \"TIC 275758701\".\n",
      "No data found for target \"TIC 436166416\".\n",
      "No data found for target \"TIC 120183168\".\n",
      "No data found for target \"TIC 406190563\".\n",
      "No data found for target \"TIC 239372503\".\n",
      "No data found for target \"TIC 239372503\".\n",
      "No data found for target \"TIC 239372503\".\n",
      "/Users/anahitasrinivasan/opt/anaconda3/lib/python3.9/site-packages/lightkurve/search.py:414: LightkurveWarning: Cannot download from an empty search result.\n",
      "  warnings.warn(\n"
     ]
    },
    {
     "name": "stdout",
     "output_type": "stream",
     "text": [
      "AttributeError occured with TIC 239372503 item 4556\n"
     ]
    },
    {
     "name": "stderr",
     "output_type": "stream",
     "text": [
      "Warning: 32% (408/1288) of the cadences will be ignored due to the quality mask (quality_bitmask=175).\n",
      "Warning: 32% (408/1288) of the cadences will be ignored due to the quality mask (quality_bitmask=175).\n",
      "Warning: 32% (408/1288) of the cadences will be ignored due to the quality mask (quality_bitmask=175).\n"
     ]
    },
    {
     "name": "stdout",
     "output_type": "stream",
     "text": [
      "ZeroDivisionError occured with TIC 319610598 item 4564\n"
     ]
    },
    {
     "name": "stderr",
     "output_type": "stream",
     "text": [
      "Warning: 32% (408/1288) of the cadences will be ignored due to the quality mask (quality_bitmask=175).\n"
     ]
    },
    {
     "name": "stdout",
     "output_type": "stream",
     "text": [
      "An error occured with TIC 340458804 item 4565\n"
     ]
    },
    {
     "name": "stderr",
     "output_type": "stream",
     "text": [
      "No data found for target \"TIC 243014114\".\n",
      "No data found for target \"TIC 301289516\".\n",
      "No data found for target \"TIC 333657795\".\n",
      "No data found for target \"TIC 380887434\".\n",
      "No data found for target \"TIC 293432942\".\n",
      "No data found for target \"TIC 293432942\".\n",
      "No data found for target \"TIC 293432942\".\n",
      "/Users/anahitasrinivasan/opt/anaconda3/lib/python3.9/site-packages/lightkurve/search.py:414: LightkurveWarning: Cannot download from an empty search result.\n",
      "  warnings.warn(\n"
     ]
    },
    {
     "name": "stdout",
     "output_type": "stream",
     "text": [
      "AttributeError occured with TIC 293432942 item 4597\n"
     ]
    },
    {
     "name": "stderr",
     "output_type": "stream",
     "text": [
      "No data found for target \"TIC 435336785\".\n",
      "No data found for target \"TIC 435336785\".\n",
      "No data found for target \"TIC 435336785\".\n",
      "/Users/anahitasrinivasan/opt/anaconda3/lib/python3.9/site-packages/lightkurve/search.py:414: LightkurveWarning: Cannot download from an empty search result.\n",
      "  warnings.warn(\n"
     ]
    },
    {
     "name": "stdout",
     "output_type": "stream",
     "text": [
      "AttributeError occured with TIC 435336785 item 4599\n"
     ]
    },
    {
     "name": "stderr",
     "output_type": "stream",
     "text": [
      "No data found for target \"TIC 25911962\".\n",
      "No data found for target \"TIC 25911962\".\n",
      "No data found for target \"TIC 25911962\".\n",
      "/Users/anahitasrinivasan/opt/anaconda3/lib/python3.9/site-packages/lightkurve/search.py:414: LightkurveWarning: Cannot download from an empty search result.\n",
      "  warnings.warn(\n"
     ]
    },
    {
     "name": "stdout",
     "output_type": "stream",
     "text": [
      "AttributeError occured with TIC 25911962 item 4602\n"
     ]
    },
    {
     "name": "stderr",
     "output_type": "stream",
     "text": [
      "No data found for target \"TIC 21130820\".\n",
      "No data found for target \"TIC 21130820\".\n",
      "No data found for target \"TIC 204650483\".\n",
      "No data found for target \"TIC 204650483\".\n",
      "Warning: 32% (408/1288) of the cadences will be ignored due to the quality mask (quality_bitmask=175).\n",
      "Warning: 32% (408/1288) of the cadences will be ignored due to the quality mask (quality_bitmask=175).\n",
      "No data found for target \"TIC 137402055\".\n",
      "No data found for target \"TIC 48451130\".\n",
      "No data found for target \"TIC 138364831\".\n",
      "No data found for target \"TIC 219854519\".\n"
     ]
    },
    {
     "name": "stdout",
     "output_type": "stream",
     "text": [
      "ZeroDivisionError occured with TIC 233529335 item 4642\n"
     ]
    },
    {
     "name": "stderr",
     "output_type": "stream",
     "text": [
      "No data found for target \"TIC 356868487\".\n",
      "No data found for target \"TIC 19155785\".\n",
      "No data found for target \"TIC 19155785\".\n",
      "No data found for target \"TIC 19155785\".\n",
      "/Users/anahitasrinivasan/opt/anaconda3/lib/python3.9/site-packages/lightkurve/search.py:414: LightkurveWarning: Cannot download from an empty search result.\n",
      "  warnings.warn(\n"
     ]
    },
    {
     "name": "stdout",
     "output_type": "stream",
     "text": [
      "AttributeError occured with TIC 19155785 item 4663\n"
     ]
    },
    {
     "name": "stderr",
     "output_type": "stream",
     "text": [
      "No data found for target \"TIC 68577662\".\n",
      "No data found for target \"TIC 427740976\".\n",
      "No data found for target \"TIC 118820486\".\n",
      "No data found for target \"TIC 118820486\".\n",
      "No data found for target \"TIC 118820486\".\n",
      "/Users/anahitasrinivasan/opt/anaconda3/lib/python3.9/site-packages/lightkurve/search.py:414: LightkurveWarning: Cannot download from an empty search result.\n",
      "  warnings.warn(\n"
     ]
    },
    {
     "name": "stdout",
     "output_type": "stream",
     "text": [
      "AttributeError occured with TIC 118820486 item 4667\n"
     ]
    },
    {
     "name": "stderr",
     "output_type": "stream",
     "text": [
      "No data found for target \"TIC 1950736\".\n",
      "No data found for target \"TIC 84599716\".\n",
      "No data found for target \"TIC 241442273\".\n"
     ]
    },
    {
     "name": "stdout",
     "output_type": "stream",
     "text": [
      "ZeroDivisionError occured with TIC 313006381 item 4689\n"
     ]
    },
    {
     "name": "stderr",
     "output_type": "stream",
     "text": [
      "No data found for target \"TIC 17150865\".\n",
      "No data found for target \"TIC 387423096\".\n",
      "<__array_function__ internals>:5: RuntimeWarning: Mean of empty slice\n",
      "<__array_function__ internals>:5: RuntimeWarning: Degrees of freedom <= 0 for slice.\n"
     ]
    },
    {
     "name": "stdout",
     "output_type": "stream",
     "text": [
      "An error occured with TIC 387423096 item 4702\n"
     ]
    },
    {
     "name": "stderr",
     "output_type": "stream",
     "text": [
      "No data found for target \"TIC 286696849\".\n",
      "No data found for target \"TIC 286696849\".\n",
      "No data found for target \"TIC 60646268\".\n",
      "No data found for target \"TIC 60646268\".\n",
      "No data found for target \"TIC 147302550\".\n",
      "No data found for target \"TIC 147302550\".\n",
      "No data found for target \"TIC 139877968\".\n",
      "No data found for target \"TIC 238854767\".\n",
      "No data found for target \"TIC 99648579\".\n",
      "No data found for target \"TIC 99648579\".\n",
      "No data found for target \"TIC 209310912\".\n",
      "No data found for target \"TIC 209310912\".\n",
      "/Users/anahitasrinivasan/opt/anaconda3/lib/python3.9/site-packages/lightkurve/search.py:414: LightkurveWarning: Cannot download from an empty search result.\n",
      "  warnings.warn(\n"
     ]
    },
    {
     "name": "stdout",
     "output_type": "stream",
     "text": [
      "AttributeError occured with TIC 209310912 item 4713\n"
     ]
    },
    {
     "name": "stderr",
     "output_type": "stream",
     "text": [
      "No data found for target \"TIC 120523488\".\n",
      "No data found for target \"TIC 434110695\".\n",
      "No data found for target \"TIC 224279091\".\n",
      "No data found for target \"TIC 178215634\".\n",
      "No data found for target \"TIC 435259601\".\n",
      "No data found for target \"TIC 435259601\".\n",
      "/Users/anahitasrinivasan/opt/anaconda3/lib/python3.9/site-packages/lightkurve/search.py:414: LightkurveWarning: Cannot download from an empty search result.\n",
      "  warnings.warn(\n"
     ]
    },
    {
     "name": "stdout",
     "output_type": "stream",
     "text": [
      "AttributeError occured with TIC 435259601 item 4718\n"
     ]
    },
    {
     "name": "stderr",
     "output_type": "stream",
     "text": [
      "No data found for target \"TIC 441135051\".\n",
      "No data found for target \"TIC 441135051\".\n",
      "No data found for target \"TIC 237358490\".\n",
      "No data found for target \"TIC 299551666\".\n",
      "No data found for target \"TIC 165201455\".\n",
      "No data found for target \"TIC 165201455\".\n",
      "No data found for target \"TIC 165202476\".\n",
      "No data found for target \"TIC 165202476\".\n",
      "/Users/anahitasrinivasan/opt/anaconda3/lib/python3.9/site-packages/lightkurve/search.py:414: LightkurveWarning: Cannot download from an empty search result.\n",
      "  warnings.warn(\n"
     ]
    },
    {
     "name": "stdout",
     "output_type": "stream",
     "text": [
      "AttributeError occured with TIC 165202476 item 4724\n"
     ]
    },
    {
     "name": "stderr",
     "output_type": "stream",
     "text": [
      "No data found for target \"TIC 422884521\".\n",
      "No data found for target \"TIC 422884521\".\n",
      "No data found for target \"TIC 142938659\".\n",
      "No data found for target \"TIC 142938659\".\n",
      "/Users/anahitasrinivasan/opt/anaconda3/lib/python3.9/site-packages/lightkurve/search.py:414: LightkurveWarning: Cannot download from an empty search result.\n",
      "  warnings.warn(\n"
     ]
    },
    {
     "name": "stdout",
     "output_type": "stream",
     "text": [
      "AttributeError occured with TIC 142938659 item 4726\n"
     ]
    },
    {
     "name": "stderr",
     "output_type": "stream",
     "text": [
      "No data found for target \"TIC 71401634\".\n",
      "/Users/anahitasrinivasan/opt/anaconda3/lib/python3.9/site-packages/lightkurve/search.py:414: LightkurveWarning: Cannot download from an empty search result.\n",
      "  warnings.warn(\n"
     ]
    },
    {
     "name": "stdout",
     "output_type": "stream",
     "text": [
      "AttributeError occured with TIC 71401634 item 4727\n"
     ]
    },
    {
     "name": "stderr",
     "output_type": "stream",
     "text": [
      "No data found for target \"TIC 404506270\".\n",
      "No data found for target \"TIC 404506270\".\n",
      "/Users/anahitasrinivasan/opt/anaconda3/lib/python3.9/site-packages/lightkurve/search.py:414: LightkurveWarning: Cannot download from an empty search result.\n",
      "  warnings.warn(\n"
     ]
    },
    {
     "name": "stdout",
     "output_type": "stream",
     "text": [
      "AttributeError occured with TIC 404506270 item 4728\n"
     ]
    },
    {
     "name": "stderr",
     "output_type": "stream",
     "text": [
      "No data found for target \"TIC 439873430\".\n",
      "No data found for target \"TIC 118573065\".\n",
      "No data found for target \"TIC 89062142\".\n",
      "No data found for target \"TIC 89062142\".\n",
      "No data found for target \"TIC 219225319\".\n",
      "No data found for target \"TIC 219225319\".\n",
      "No data found for target \"TIC 100974694\".\n",
      "Warning: 32% (408/1288) of the cadences will be ignored due to the quality mask (quality_bitmask=175).\n",
      "No data found for target \"TIC 206717400\".\n",
      "No data found for target \"TIC 283605976\".\n",
      "No data found for target \"TIC 31258738\".\n",
      "No data found for target \"TIC 31258738\".\n",
      "No data found for target \"TIC 248689510\".\n",
      "No data found for target \"TIC 248689510\".\n",
      "/Users/anahitasrinivasan/opt/anaconda3/lib/python3.9/site-packages/lightkurve/search.py:414: LightkurveWarning: Cannot download from an empty search result.\n",
      "  warnings.warn(\n"
     ]
    },
    {
     "name": "stdout",
     "output_type": "stream",
     "text": [
      "AttributeError occured with TIC 248689510 item 4739\n"
     ]
    },
    {
     "name": "stderr",
     "output_type": "stream",
     "text": [
      "No data found for target \"TIC 449197624\".\n",
      "No data found for target \"TIC 264460005\".\n",
      "No data found for target \"TIC 264460005\".\n",
      "No data found for target \"TIC 399757537\".\n",
      "No data found for target \"TIC 399757537\".\n",
      "No data found for target \"TIC 431693152\".\n",
      "No data found for target \"TIC 316875094\".\n",
      "No data found for target \"TIC 316875094\".\n",
      "No data found for target \"TIC 302759417\".\n",
      "No data found for target \"TIC 302759417\".\n",
      "No data found for target \"TIC 245793479\".\n",
      "No data found for target \"TIC 396935099\".\n",
      "No data found for target \"TIC 396935099\".\n",
      "/Users/anahitasrinivasan/opt/anaconda3/lib/python3.9/site-packages/lightkurve/search.py:414: LightkurveWarning: Cannot download from an empty search result.\n",
      "  warnings.warn(\n"
     ]
    },
    {
     "name": "stdout",
     "output_type": "stream",
     "text": [
      "AttributeError occured with TIC 396935099 item 4747\n"
     ]
    },
    {
     "name": "stderr",
     "output_type": "stream",
     "text": [
      "No data found for target \"TIC 455033897\".\n",
      "No data found for target \"TIC 200321577\".\n",
      "No data found for target \"TIC 200321577\".\n",
      "/Users/anahitasrinivasan/opt/anaconda3/lib/python3.9/site-packages/lightkurve/collections.py:212: LightkurveWarning: The following columns will be excluded from stitching because the column types are incompatible: {'sap_flux', 'sap_bkg_err', 'sap_bkg', 'kspsap_flux_lag', 'kspsap_flux_sml', 'kspsap_flux'}\n",
      "  warnings.warn(\n",
      "No data found for target \"TIC 153723304\".\n",
      "No data found for target \"TIC 153723304\".\n",
      "/Users/anahitasrinivasan/opt/anaconda3/lib/python3.9/site-packages/lightkurve/collections.py:212: LightkurveWarning: The following columns will be excluded from stitching because the column types are incompatible: {'sap_flux', 'sap_bkg_err', 'sap_bkg', 'kspsap_flux_lag', 'kspsap_flux_sml', 'kspsap_flux'}\n",
      "  warnings.warn(\n",
      "No data found for target \"TIC 117843365\".\n",
      "/Users/anahitasrinivasan/opt/anaconda3/lib/python3.9/site-packages/lightkurve/search.py:414: LightkurveWarning: Cannot download from an empty search result.\n",
      "  warnings.warn(\n"
     ]
    },
    {
     "name": "stdout",
     "output_type": "stream",
     "text": [
      "AttributeError occured with TIC 117843365 item 4751\n"
     ]
    },
    {
     "name": "stderr",
     "output_type": "stream",
     "text": [
      "No data found for target \"TIC 50745119\".\n",
      "No data found for target \"TIC 50745119\".\n",
      "No data found for target \"TIC 139550876\".\n",
      "No data found for target \"TIC 243011228\".\n",
      "No data found for target \"TIC 243011228\".\n",
      "No data found for target \"TIC 250189842\".\n",
      "No data found for target \"TIC 250189842\".\n",
      "No data found for target \"TIC 411781649\".\n",
      "No data found for target \"TIC 411781649\".\n",
      "/Users/anahitasrinivasan/opt/anaconda3/lib/python3.9/site-packages/lightkurve/search.py:414: LightkurveWarning: Cannot download from an empty search result.\n",
      "  warnings.warn(\n"
     ]
    },
    {
     "name": "stdout",
     "output_type": "stream",
     "text": [
      "AttributeError occured with TIC 411781649 item 4756\n"
     ]
    },
    {
     "name": "stderr",
     "output_type": "stream",
     "text": [
      "No data found for target \"TIC 34395020\".\n",
      "No data found for target \"TIC 34395020\".\n",
      "No data found for target \"TIC 468911753\".\n",
      "No data found for target \"TIC 468911753\".\n",
      "No data found for target \"TIC 9344899\".\n",
      "No data found for target \"TIC 9344899\".\n",
      "No data found for target \"TIC 248690688\".\n",
      "/Users/anahitasrinivasan/opt/anaconda3/lib/python3.9/site-packages/lightkurve/search.py:414: LightkurveWarning: Cannot download from an empty search result.\n",
      "  warnings.warn(\n"
     ]
    },
    {
     "name": "stdout",
     "output_type": "stream",
     "text": [
      "AttributeError occured with TIC 248690688 item 4760\n"
     ]
    },
    {
     "name": "stderr",
     "output_type": "stream",
     "text": [
      "No data found for target \"TIC 293514367\".\n",
      "No data found for target \"TIC 293514367\".\n",
      "No data found for target \"TIC 455030519\".\n",
      "No data found for target \"TIC 322825139\".\n",
      "No data found for target \"TIC 322825139\".\n",
      "/Users/anahitasrinivasan/opt/anaconda3/lib/python3.9/site-packages/numpy/lib/nanfunctions.py:1113: RuntimeWarning: All-NaN slice encountered\n",
      "  r, k = function_base._ureduce(a, func=_nanmedian, axis=axis, out=out,\n",
      "<__array_function__ internals>:5: RuntimeWarning: Degrees of freedom <= 0 for slice.\n"
     ]
    },
    {
     "name": "stdout",
     "output_type": "stream",
     "text": [
      "An error occured with TIC 322825139 item 4765\n"
     ]
    },
    {
     "name": "stderr",
     "output_type": "stream",
     "text": [
      "No data found for target \"TIC 232194097\".\n",
      "No data found for target \"TIC 232194097\".\n",
      "/Users/anahitasrinivasan/opt/anaconda3/lib/python3.9/site-packages/lightkurve/search.py:414: LightkurveWarning: Cannot download from an empty search result.\n",
      "  warnings.warn(\n"
     ]
    },
    {
     "name": "stdout",
     "output_type": "stream",
     "text": [
      "AttributeError occured with TIC 232194097 item 4766\n"
     ]
    },
    {
     "name": "stderr",
     "output_type": "stream",
     "text": [
      "No data found for target \"TIC 317328621\".\n",
      "No data found for target \"TIC 317328621\".\n",
      "No data found for target \"TIC 144486060\".\n",
      "No data found for target \"TIC 144486060\".\n",
      "No data found for target \"TIC 177718896\".\n",
      "No data found for target \"TIC 177718896\".\n",
      "No data found for target \"TIC 317089770\".\n",
      "No data found for target \"TIC 102542376\".\n",
      "No data found for target \"TIC 102542376\".\n",
      "No data found for target \"TIC 251111783\".\n",
      "No data found for target \"TIC 251111783\".\n",
      "No data found for target \"TIC 268372005\".\n",
      "No data found for target \"TIC 268372005\".\n",
      "No data found for target \"TIC 268689126\".\n",
      "No data found for target \"TIC 268689126\".\n",
      "No data found for target \"TIC 269190305\".\n",
      "No data found for target \"TIC 269190305\".\n",
      "No data found for target \"TIC 234958949\".\n",
      "No data found for target \"TIC 234958949\".\n",
      "No data found for target \"TIC 306363166\".\n",
      "No data found for target \"TIC 306363166\".\n",
      "No data found for target \"TIC 124322274\".\n",
      "No data found for target \"TIC 124322274\".\n",
      "/Users/anahitasrinivasan/opt/anaconda3/lib/python3.9/site-packages/lightkurve/collections.py:212: LightkurveWarning: The following columns will be excluded from stitching because the column types are incompatible: {'sap_flux', 'kspsap_flux_sml', 'kspsap_flux', 'kspsap_flux_lag'}\n",
      "  warnings.warn(\n",
      "No data found for target \"TIC 229210014\".\n",
      "No data found for target \"TIC 229210014\".\n",
      "No data found for target \"TIC 142530031\".\n",
      "No data found for target \"TIC 142530031\".\n",
      "No data found for target \"TIC 322824542\".\n",
      "No data found for target \"TIC 322824542\".\n",
      "/Users/anahitasrinivasan/opt/anaconda3/lib/python3.9/site-packages/numpy/lib/nanfunctions.py:1113: RuntimeWarning: All-NaN slice encountered\n",
      "  r, k = function_base._ureduce(a, func=_nanmedian, axis=axis, out=out,\n",
      "<__array_function__ internals>:5: RuntimeWarning: Degrees of freedom <= 0 for slice.\n"
     ]
    },
    {
     "name": "stdout",
     "output_type": "stream",
     "text": [
      "An error occured with TIC 322824542 item 4781\n"
     ]
    },
    {
     "name": "stderr",
     "output_type": "stream",
     "text": [
      "No data found for target \"TIC 119638424\".\n",
      "No data found for target \"TIC 26587613\".\n",
      "No data found for target \"TIC 26587613\".\n",
      "/Users/anahitasrinivasan/opt/anaconda3/lib/python3.9/site-packages/lightkurve/search.py:414: LightkurveWarning: Cannot download from an empty search result.\n",
      "  warnings.warn(\n"
     ]
    },
    {
     "name": "stdout",
     "output_type": "stream",
     "text": [
      "AttributeError occured with TIC 26587613 item 4783\n"
     ]
    },
    {
     "name": "stderr",
     "output_type": "stream",
     "text": [
      "No data found for target \"TIC 409009431\".\n",
      "/Users/anahitasrinivasan/opt/anaconda3/lib/python3.9/site-packages/lightkurve/search.py:414: LightkurveWarning: Cannot download from an empty search result.\n",
      "  warnings.warn(\n"
     ]
    },
    {
     "name": "stdout",
     "output_type": "stream",
     "text": [
      "AttributeError occured with TIC 409009431 item 4784\n",
      "An error occured with TIC 39824732 item 4785\n"
     ]
    },
    {
     "name": "stderr",
     "output_type": "stream",
     "text": [
      "No data found for target \"TIC 270716565\".\n",
      "No data found for target \"TIC 270716565\".\n",
      "No data found for target \"TIC 52738649\".\n",
      "No data found for target \"TIC 52738649\".\n",
      "No data found for target \"TIC 97866515\".\n",
      "No data found for target \"TIC 438368981\".\n",
      "No data found for target \"TIC 438368981\".\n",
      "No data found for target \"TIC 78489364\".\n",
      "No data found for target \"TIC 78489364\".\n",
      "/Users/anahitasrinivasan/opt/anaconda3/lib/python3.9/site-packages/lightkurve/search.py:414: LightkurveWarning: Cannot download from an empty search result.\n",
      "  warnings.warn(\n"
     ]
    },
    {
     "name": "stdout",
     "output_type": "stream",
     "text": [
      "AttributeError occured with TIC 78489364 item 4790\n"
     ]
    },
    {
     "name": "stderr",
     "output_type": "stream",
     "text": [
      "No data found for target \"TIC 438149332\".\n",
      "No data found for target \"TIC 438149332\".\n",
      "No data found for target \"TIC 280292434\".\n",
      "No data found for target \"TIC 280292434\".\n",
      "No data found for target \"TIC 265619984\".\n",
      "No data found for target \"TIC 265619984\".\n",
      "No data found for target \"TIC 142532090\".\n",
      "No data found for target \"TIC 72097808\".\n",
      "No data found for target \"TIC 72097808\".\n",
      "/Users/anahitasrinivasan/opt/anaconda3/lib/python3.9/site-packages/lightkurve/search.py:414: LightkurveWarning: Cannot download from an empty search result.\n",
      "  warnings.warn(\n"
     ]
    },
    {
     "name": "stdout",
     "output_type": "stream",
     "text": [
      "AttributeError occured with TIC 72097808 item 4798\n"
     ]
    },
    {
     "name": "stderr",
     "output_type": "stream",
     "text": [
      "No data found for target \"TIC 291198795\".\n",
      "No data found for target \"TIC 291198795\".\n"
     ]
    },
    {
     "name": "stdout",
     "output_type": "stream",
     "text": [
      "AttributeError occured with TIC 291198795 item 4799\n"
     ]
    },
    {
     "name": "stderr",
     "output_type": "stream",
     "text": [
      "/Users/anahitasrinivasan/opt/anaconda3/lib/python3.9/site-packages/lightkurve/search.py:414: LightkurveWarning: Cannot download from an empty search result.\n",
      "  warnings.warn(\n"
     ]
    }
   ],
   "source": [
    "#NOTE: an explanation of the relevant method here is in the README file for this repository\n",
    "\n",
    "#FINAL METHOD\n",
    "#change method based on duration_hours and fractional_duration\n",
    "#change size of the phase mask\n",
    "#catch AttributeError and TimeDivisionError\n",
    "#uses minmax normalization for all curves\n",
    "#downloads .csv file of all points to a folder on computer; closes figures once completed \n",
    "\n",
    "import lightkurve as lk\n",
    "import numpy as np\n",
    "import matplotlib.pyplot as plt\n",
    "%matplotlib inline\n",
    "import csv\n",
    "\n",
    "data = \"finaldata.csv\"\n",
    "fields = []\n",
    "rows = []\n",
    "\n",
    "with open(data, 'r') as file:\n",
    "    read = csv.reader(file)\n",
    "    fields = next(read)\n",
    "    for row in read:\n",
    "        rows.append(row)\n",
    "\n",
    "path = \"/Users/anahitasrinivasan/Desktop/UROP Items/Lightcurves/\"\n",
    "author = \"\"\n",
    "\n",
    "for x in range(4466, 4800):\n",
    "    try:\n",
    "        TOI_name = \"TIC \" + rows[x][fields.index(\"TIC ID\")] \n",
    "        period = float(rows[x][fields.index(\"Period (days)\")])\n",
    "        t0 = float(rows[x][fields.index(\"Epoch (BJD)\")])\n",
    "        duration_hours = float(rows[x][fields.index(\"Duration (hours)\")])\n",
    "        fractional_duration = (duration_hours / 24.0) / period\n",
    "\n",
    "        if(duration_hours < 3.0): \n",
    "            \n",
    "            if(fractional_duration < 0.004): \n",
    "                search_result = lk.search_lightcurve(TOI_name, author=\"SPOC\", exptime=120)\n",
    "                author = \"SPOC\"\n",
    "                if(len(search_result) == 0):\n",
    "                    search_result = lk.search_lightcurve(TOI_name, author=\"TESS-SPOC\", exptime=1800)\n",
    "                    author = \"TESSSPOC\"\n",
    "                    if(len(search_result) == 0):\n",
    "                        search_result = lk.search_lightcurve(TOI_name, author=\"QLP\", exptime=1800)\n",
    "                        author = \"QLP\"\n",
    "\n",
    "                lcs = search_result.download_all() \n",
    "                lc_raw = lcs.stitch() \n",
    "\n",
    "                lc_clean = lc_raw.remove_outliers(sigma=20, sigma_upper=4) \n",
    "\n",
    "                temp_fold = lc_clean.fold(period, epoch_time=(t0-2457000))\n",
    "\n",
    "                fractional_duration = (duration_hours / 24.0) / period\n",
    "\n",
    "                phase_mask = (temp_fold.phase > -300*fractional_duration) & (temp_fold.phase < 300.0*fractional_duration)\n",
    "                lc_zoom = temp_fold[phase_mask]\n",
    "\n",
    "                lc_local = lc_zoom.bin(time_bin_size=0.0008)\n",
    "                lc_local = (lc_local - np.abs(np.nanmin(lc_local.flux))) / (np.abs(np.nanmax(lc_local.flux)) - np.abs(np.nanmin(lc_local.flux)))\n",
    "                \n",
    "                fig, axes = plt.subplots()\n",
    "                lc_local.plot(ax=axes, color=\"black\")\n",
    "                line = fig.gca().lines[0]\n",
    "                data = np.asarray([line.get_xdata(), line.get_ydata()])\n",
    "                filename = path + \"fig\" + str(x) + \"_\" + TOI_name[4:] + \"_\" + author + \".csv\"\n",
    "                np.savetxt(filename, data, delimiter=',')\n",
    "                plt.close()\n",
    "            \n",
    "            if(fractional_duration < 0.01):\n",
    "                search_result = lk.search_lightcurve(TOI_name, author=\"SPOC\", exptime=120)\n",
    "                author = \"SPOC\"\n",
    "                if(len(search_result) == 0):\n",
    "                    search_result = lk.search_lightcurve(TOI_name, author=\"TESS-SPOC\", exptime=1800)\n",
    "                    author = \"TESSSPOC\"\n",
    "                    if(len(search_result) == 0):\n",
    "                        search_result = lk.search_lightcurve(TOI_name, author=\"QLP\", exptime=1800)\n",
    "                        author = \"QLP\"\n",
    "\n",
    "                lcs = search_result.download_all() \n",
    "                lc_raw = lcs.stitch() \n",
    "\n",
    "                lc_clean = lc_raw.remove_outliers(sigma=20, sigma_upper=4) \n",
    "\n",
    "                temp_fold = lc_clean.fold(period, epoch_time=(t0-2457000))\n",
    "\n",
    "                fractional_duration = (duration_hours / 24.0) / period\n",
    "\n",
    "                phase_mask = (temp_fold.phase > -15*fractional_duration) & (temp_fold.phase < 15.0*fractional_duration)\n",
    "                lc_zoom = temp_fold[phase_mask]\n",
    "\n",
    "                lc_local = lc_zoom.bin(time_bin_size=0.0008) \n",
    "                lc_local = (lc_local - np.abs(np.nanmin(lc_local.flux))) / (np.abs(np.nanmax(lc_local.flux)) - np.abs(np.nanmin(lc_local.flux)))\n",
    "                \n",
    "                fig, axes = plt.subplots()\n",
    "                lc_local.plot(ax=axes, color=\"black\")\n",
    "                line = fig.gca().lines[0]\n",
    "                data = np.asarray([line.get_xdata(), line.get_ydata()])\n",
    "                filename = path + \"fig\" + str(x) + \"_\" + TOI_name[4:] + \"_\" + author + \".csv\"\n",
    "                np.savetxt(filename, data, delimiter=',')\n",
    "                plt.close()\n",
    "            \n",
    "            elif(fractional_duration < 0.04):\n",
    "                search_result = lk.search_lightcurve(TOI_name, author=\"SPOC\", exptime=120)\n",
    "                author = \"SPOC\"\n",
    "                if(len(search_result) == 0):\n",
    "                    search_result = lk.search_lightcurve(TOI_name, author=\"TESS-SPOC\", exptime=1800)\n",
    "                    author = \"TESSSPOC\"\n",
    "                    if(len(search_result) == 0):\n",
    "                        search_result = lk.search_lightcurve(TOI_name, author=\"QLP\", exptime=1800)\n",
    "                        author = \"QLP\"\n",
    "\n",
    "                lcs = search_result.download_all() \n",
    "                lc_raw = lcs.stitch() \n",
    "\n",
    "                lc_clean = lc_raw.remove_outliers(sigma=20, sigma_upper=4) \n",
    "\n",
    "                temp_fold = lc_clean.fold(period, epoch_time=(t0-2457000))\n",
    "\n",
    "                fractional_duration = (duration_hours / 24.0) / period\n",
    "\n",
    "                phase_mask = (temp_fold.phase > -4*fractional_duration) & (temp_fold.phase < 4.0*fractional_duration) \n",
    "                lc_zoom = temp_fold[phase_mask]\n",
    "\n",
    "                lc_local = lc_zoom.bin(time_bin_size=0.0008)\n",
    "                lc_local = (lc_local - np.abs(np.nanmin(lc_local.flux))) / (np.abs(np.nanmax(lc_local.flux)) - np.abs(np.nanmin(lc_local.flux)))\n",
    "                \n",
    "                fig, axes = plt.subplots()\n",
    "                lc_local.plot(ax=axes, color=\"black\")\n",
    "                line = fig.gca().lines[0]\n",
    "                data = np.asarray([line.get_xdata(), line.get_ydata()])\n",
    "                filename = path + \"fig\" + str(x) + \"_\" + TOI_name[4:] + \"_\" + author + \".csv\"\n",
    "                np.savetxt(filename, data, delimiter=',')\n",
    "                plt.close()\n",
    "            \n",
    "            else:\n",
    "                search_result = lk.search_lightcurve(TOI_name, author=\"TESS-SPOC\", exptime=1800)\n",
    "                author = \"TESSSPOC\"\n",
    "                if(len(search_result) == 0):\n",
    "                    search_result = lk.search_lightcurve(TOI_name, author=\"SPOC\", exptime=120)\n",
    "                    author = \"SPOC\"\n",
    "                    if(len(search_result) == 0):\n",
    "                        search_result = lk.search_lightcurve(TOI_name, author=\"QLP\", exptime=1800)\n",
    "                        author = \"QLP\"\n",
    "\n",
    "                lcs = search_result.download_all() \n",
    "                lc_raw = lcs.stitch() \n",
    "\n",
    "                lc_clean = lc_raw.remove_outliers(sigma=20, sigma_upper=4) \n",
    "\n",
    "                temp_fold = lc_clean.fold(period, epoch_time=(t0-2457000))\n",
    "\n",
    "                fractional_duration = (duration_hours / 24.0) / period\n",
    "\n",
    "                phase_mask = np.abs(temp_fold.phase.value) < (fractional_duration * 1.5)\n",
    "                transit_mask = np.in1d(lc_clean.time.value, temp_fold.time_original.value[phase_mask])\n",
    "\n",
    "                lc_flat = lc_clean.flatten(mask=transit_mask)\n",
    "\n",
    "                lc_fold = lc_flat.fold(period, epoch_time=(t0-2457000))\n",
    "\n",
    "                lc_global = lc_fold.bin(time_bin_size=0.0008)\n",
    "\n",
    "                phase_mask = (lc_fold.phase > -15*fractional_duration) & (lc_fold.phase < 15.0*fractional_duration) \n",
    "                lc_zoom = lc_fold[phase_mask]\n",
    "\n",
    "                lc_local = lc_zoom.bin(time_bin_size=0.0008)  \n",
    "                lc_local = (lc_local - np.abs(np.nanmin(lc_local.flux))) / (np.abs(np.nanmax(lc_local.flux)) - np.abs(np.nanmin(lc_local.flux)))\n",
    "\n",
    "                fig, axes = plt.subplots()\n",
    "                lc_local.plot(ax=axes, color=\"black\")\n",
    "                line = fig.gca().lines[0]\n",
    "                data = np.asarray([line.get_xdata(), line.get_ydata()])\n",
    "                filename = path + \"fig\" + str(x) + \"_\" + TOI_name[4:] + \"_\" + author + \".csv\"\n",
    "                np.savetxt(filename, data, delimiter=',')\n",
    "                plt.close()\n",
    "    \n",
    "        elif(duration_hours < 5.0):\n",
    "            search_result = lk.search_lightcurve(TOI_name, author=\"SPOC\", exptime=120)\n",
    "            author = \"SPOC\"\n",
    "            if(len(search_result) == 0):\n",
    "                search_result = lk.search_lightcurve(TOI_name, author=\"TESS-SPOC\", exptime=1800)\n",
    "                author = \"TESSSPOC\"\n",
    "                if(len(search_result) == 0):\n",
    "                    search_result = lk.search_lightcurve(TOI_name, author=\"QLP\", exptime=1800)\n",
    "                    author = \"QLP\"\n",
    "\n",
    "            lcs = search_result.download_all() \n",
    "            lc_raw = lcs.stitch() \n",
    "\n",
    "            lc_clean = lc_raw.remove_outliers(sigma=20, sigma_upper=4) \n",
    "\n",
    "            temp_fold = lc_clean.fold(period, epoch_time=(t0-2457000))\n",
    "\n",
    "            fractional_duration = (duration_hours / 24.0) / period\n",
    "\n",
    "            phase_mask = (temp_fold.phase > -25*fractional_duration) & (temp_fold.phase < 25.0*fractional_duration) \n",
    "            lc_zoom = temp_fold[phase_mask]\n",
    "\n",
    "            lc_local = lc_zoom.bin(time_bin_size=0.0008)\n",
    "            lc_local = (lc_local - np.abs(np.nanmin(lc_local.flux))) / (np.abs(np.nanmax(lc_local.flux)) - np.abs(np.nanmin(lc_local.flux)))\n",
    "            \n",
    "            fig, axes = plt.subplots()\n",
    "            lc_local.plot(ax=axes, color=\"black\")\n",
    "            line = fig.gca().lines[0]\n",
    "            data = np.asarray([line.get_xdata(), line.get_ydata()])\n",
    "            filename = path + \"fig\" + str(x) + \"_\" + TOI_name[4:] + \"_\" + author + \".csv\"\n",
    "            np.savetxt(filename, data, delimiter=',')\n",
    "            plt.close()\n",
    "        \n",
    "        else:\n",
    "            if(fractional_duration < 0.02):\n",
    "                search_result = lk.search_lightcurve(TOI_name, author=\"TESS-SPOC\", exptime=1800)\n",
    "                author = \"TESSSPOC\"\n",
    "                if(len(search_result) == 0):\n",
    "                    search_result = lk.search_lightcurve(TOI_name, author=\"SPOC\", exptime=120)\n",
    "                    author = \"SPOC\"\n",
    "                    if(len(search_result) == 0):\n",
    "                        search_result = lk.search_lightcurve(TOI_name, author=\"QLP\", exptime=1800)\n",
    "                        author = \"QLP\"\n",
    "\n",
    "                lcs = search_result.download_all() \n",
    "                lc_raw = lcs.stitch() \n",
    "\n",
    "                lc_clean = lc_raw.remove_outliers(sigma=20, sigma_upper=4) \n",
    "\n",
    "                temp_fold = lc_clean.fold(period, epoch_time=(t0-2457000))\n",
    "\n",
    "                fractional_duration = (duration_hours / 24.0) / period\n",
    "\n",
    "                phase_mask = (temp_fold.phase > -300*fractional_duration) & (temp_fold.phase < 300.0*fractional_duration)\n",
    "                lc_zoom = temp_fold[phase_mask]\n",
    "\n",
    "                lc_local = lc_zoom.bin(time_bin_size=0.0008)\n",
    "                lc_local = (lc_local - np.abs(np.nanmin(lc_local.flux))) / (np.abs(np.nanmax(lc_local.flux)) - np.abs(np.nanmin(lc_local.flux)))\n",
    "                \n",
    "                fig, axes = plt.subplots()\n",
    "                lc_local.plot(ax=axes, color=\"black\")\n",
    "                line = fig.gca().lines[0]\n",
    "                data = np.asarray([line.get_xdata(), line.get_ydata()])\n",
    "                filename = path + \"fig\" + str(x) + \"_\" + TOI_name[4:] + \"_\" + author + \".csv\"\n",
    "                np.savetxt(filename, data, delimiter=',')\n",
    "                plt.close()\n",
    "                \n",
    "            else:\n",
    "                search_result = lk.search_lightcurve(TOI_name, author=\"TESS-SPOC\", exptime=1800)\n",
    "                author = \"TESSSPOC\"\n",
    "                if(len(search_result) == 0):\n",
    "                    search_result = lk.search_lightcurve(TOI_name, author=\"SPOC\", exptime=120)\n",
    "                    author = \"SPOC\"\n",
    "                    if(len(search_result) == 0):\n",
    "                        search_result = lk.search_lightcurve(TOI_name, author=\"QLP\", exptime=1800)\n",
    "                        author = \"QLP\"\n",
    "\n",
    "                lcs = search_result.download_all() \n",
    "                lc_raw = lcs.stitch() \n",
    "\n",
    "                lc_clean = lc_raw.remove_outliers(sigma=20, sigma_upper=4) \n",
    "\n",
    "                temp_fold = lc_clean.fold(period, epoch_time=(t0-2457000))\n",
    "\n",
    "                fractional_duration = (duration_hours / 24.0) / period\n",
    "\n",
    "                phase_mask = np.abs(temp_fold.phase.value) < (fractional_duration * 1.5)\n",
    "                transit_mask = np.in1d(lc_clean.time.value, temp_fold.time_original.value[phase_mask])\n",
    "\n",
    "                lc_flat = lc_clean.flatten(mask=transit_mask)\n",
    "\n",
    "                lc_fold = lc_flat.fold(period, epoch_time=(t0-2457000))\n",
    "\n",
    "                lc_global = lc_fold.bin(time_bin_size=0.0008) \n",
    "\n",
    "                phase_mask = (lc_fold.phase > -15*fractional_duration) & (lc_fold.phase < 15.0*fractional_duration) \n",
    "                lc_zoom = lc_fold[phase_mask]\n",
    "\n",
    "                lc_local = lc_zoom.bin(time_bin_size=0.0008)  \n",
    "                lc_local = (lc_local - np.abs(np.nanmin(lc_local.flux))) / (np.abs(np.nanmax(lc_local.flux)) - np.abs(np.nanmin(lc_local.flux)))\n",
    "                \n",
    "                fig, axes = plt.subplots()\n",
    "                lc_local.plot(ax=axes, color=\"black\")\n",
    "                line = fig.gca().lines[0]\n",
    "                data = np.asarray([line.get_xdata(), line.get_ydata()])\n",
    "                filename = path + \"fig\" + str(x) + \"_\" + TOI_name[4:] + \"_\" + author + \".csv\"\n",
    "                np.savetxt(filename, data, delimiter=',')\n",
    "                plt.close()\n",
    "    \n",
    "    except AttributeError:\n",
    "        print(\"AttributeError occured with\", TOI_name, \"item\", str(x))\n",
    "    except ZeroDivisionError:\n",
    "        print(\"ZeroDivisionError occured with\", TOI_name, \"item\", str(x))\n",
    "    except:\n",
    "        print(\"An error occured with\", TOI_name, \"item\", str(x))"
   ]
  },
  {
   "cell_type": "code",
   "execution_count": null,
   "id": "8ab27730",
   "metadata": {},
   "outputs": [],
   "source": []
  }
 ],
 "metadata": {
  "kernelspec": {
   "display_name": "Python 3 (ipykernel)",
   "language": "python",
   "name": "python3"
  },
  "language_info": {
   "codemirror_mode": {
    "name": "ipython",
    "version": 3
   },
   "file_extension": ".py",
   "mimetype": "text/x-python",
   "name": "python",
   "nbconvert_exporter": "python",
   "pygments_lexer": "ipython3",
   "version": "3.9.7"
  }
 },
 "nbformat": 4,
 "nbformat_minor": 5
}
