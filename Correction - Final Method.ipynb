{
 "cells": [
  {
   "cell_type": "code",
   "execution_count": 2,
   "id": "dd15c228",
   "metadata": {},
   "outputs": [
    {
     "name": "stderr",
     "output_type": "stream",
     "text": [
      "No data found for target \"TIC 235684392\".\n",
      "No data found for target \"TIC 235684392\".\n",
      "No data found for target \"TIC 233719215\".\n",
      "No data found for target \"TIC 233719215\".\n",
      "No data found for target \"TIC 233053554\".\n",
      "No data found for target \"TIC 233053554\".\n",
      "/Users/anahitasrinivasan/opt/anaconda3/lib/python3.9/site-packages/lightkurve/collections.py:212: LightkurveWarning: The following columns will be excluded from stitching because the column types are incompatible: {'kspsap_flux_lag'}\n",
      "  warnings.warn(\n",
      "No data found for target \"TIC 232567319\".\n",
      "No data found for target \"TIC 230388132\".\n",
      "No data found for target \"TIC 230388132\".\n",
      "No data found for target \"TIC 229639351\".\n",
      "No data found for target \"TIC 229639351\".\n",
      "No data found for target \"TIC 229605891\".\n",
      "No data found for target \"TIC 229605891\".\n",
      "No data found for target \"TIC 229508727\".\n",
      "No data found for target \"TIC 229508727\".\n",
      "No data found for target \"TIC 224601047\".\n",
      "No data found for target \"TIC 224601047\".\n",
      "No data found for target \"TIC 219866209\".\n",
      "No data found for target \"TIC 219866209\".\n",
      "No data found for target \"TIC 219499488\".\n",
      "No data found for target \"TIC 219499488\".\n",
      "No data found for target \"TIC 219489550\".\n",
      "No data found for target \"TIC 219485050\".\n",
      "No data found for target \"TIC 193556520\".\n",
      "No data found for target \"TIC 193556520\".\n",
      "No data found for target \"TIC 162577466\".\n",
      "No data found for target \"TIC 162577466\".\n",
      "No data found for target \"TIC 159334269\".\n",
      "No data found for target \"TIC 159334269\".\n",
      "No data found for target \"TIC 143009290\".\n",
      "No data found for target \"TIC 143009290\".\n",
      "No data found for target \"TIC 115270627\".\n",
      "No data found for target \"TIC 115270627\".\n",
      "No data found for target \"TIC 85459171\".\n",
      "No data found for target \"TIC 85459171\".\n",
      "No data found for target \"TIC 648958344\".\n",
      "No data found for target \"TIC 628103717\".\n",
      "No data found for target \"TIC 628103717\".\n",
      "No data found for target \"TIC 627323667\".\n",
      "No data found for target \"TIC 627323667\".\n",
      "No data found for target \"TIC 57193198\".\n",
      "No data found for target \"TIC 57193198\".\n",
      "No data found for target \"TIC 57159675\".\n",
      "No data found for target \"TIC 444724127\".\n",
      "No data found for target \"TIC 444724127\".\n",
      "No data found for target \"TIC 444558604\".\n",
      "No data found for target \"TIC 444558604\".\n",
      "No data found for target \"TIC 421973253\".\n",
      "No data found for target \"TIC 400899926\".\n",
      "No data found for target \"TIC 400899926\".\n",
      "No data found for target \"TIC 399444057\".\n",
      "No data found for target \"TIC 346673534\".\n",
      "No data found for target \"TIC 346673534\".\n",
      "No data found for target \"TIC 336840314\".\n",
      "No data found for target \"TIC 298752252\".\n",
      "No data found for target \"TIC 298752252\".\n",
      "No data found for target \"TIC 289373041\".\n",
      "No data found for target \"TIC 289373041\".\n",
      "No data found for target \"TIC 289316336\".\n",
      "No data found for target \"TIC 288242606\".\n",
      "No data found for target \"TIC 288242606\".\n",
      "No data found for target \"TIC 284454822\".\n",
      "No data found for target \"TIC 280035202\".\n",
      "No data found for target \"TIC 274974693\".\n",
      "No data found for target \"TIC 272782321\".\n",
      "No data found for target \"TIC 264295655\".\n",
      "No data found for target \"TIC 264223828\".\n",
      "No data found for target \"TIC 243297296\".\n",
      "No data found for target \"TIC 243297296\".\n",
      "No data found for target \"TIC 243280335\".\n",
      "No data found for target \"TIC 243280335\".\n",
      "No data found for target \"TIC 235664497\".\n",
      "No data found for target \"TIC 235664497\".\n",
      "No data found for target \"TIC 233576159\".\n",
      "No data found for target \"TIC 232632239\".\n",
      "No data found for target \"TIC 232632239\".\n",
      "No data found for target \"TIC 230006888\".\n",
      "No data found for target \"TIC 230006888\".\n"
     ]
    },
    {
     "name": "stdout",
     "output_type": "stream",
     "text": [
      "An error occured with TIC 230006888 item 4158\n",
      "An error occured with TIC 229786610 item 4160\n"
     ]
    },
    {
     "name": "stderr",
     "output_type": "stream",
     "text": [
      "No data found for target \"TIC 229408913\".\n",
      "No data found for target \"TIC 229408913\".\n",
      "/Users/anahitasrinivasan/opt/anaconda3/lib/python3.9/site-packages/lightkurve/collections.py:212: LightkurveWarning: The following columns will be excluded from stitching because the column types are incompatible: {'sap_flux', 'kspsap_flux', 'kspsap_flux_sml', 'kspsap_flux_lag'}\n",
      "  warnings.warn(\n",
      "No data found for target \"TIC 199610140\".\n",
      "No data found for target \"TIC 198616607\".\n",
      "No data found for target \"TIC 198616607\".\n",
      "No data found for target \"TIC 193773468\".\n",
      "No data found for target \"TIC 193773468\".\n",
      "No data found for target \"TIC 160618074\".\n",
      "No data found for target \"TIC 160618074\".\n",
      "No data found for target \"TIC 159438097\".\n",
      "No data found for target \"TIC 157218656\".\n",
      "No data found for target \"TIC 156215204\".\n",
      "No data found for target \"TIC 156215204\".\n",
      "No data found for target \"TIC 153896150\".\n",
      "No data found for target \"TIC 150761163\".\n",
      "No data found for target \"TIC 150761163\".\n",
      "No data found for target \"TIC 147761049\".\n",
      "No data found for target \"TIC 147761049\".\n",
      "No data found for target \"TIC 141616639\".\n"
     ]
    },
    {
     "name": "stdout",
     "output_type": "stream",
     "text": [
      "An error occured with TIC 141488193 item 4174\n"
     ]
    },
    {
     "name": "stderr",
     "output_type": "stream",
     "text": [
      "No data found for target \"TIC 123357034\".\n",
      "No data found for target \"TIC 71396541\".\n",
      "No data found for target \"TIC 47937361\".\n",
      "No data found for target \"TIC 47937361\".\n",
      "No data found for target \"TIC 468396217\".\n",
      "No data found for target \"TIC 468396217\".\n",
      "No data found for target \"TIC 288471040\".\n",
      "No data found for target \"TIC 420680343\".\n",
      "No data found for target \"TIC 417646390\".\n",
      "No data found for target \"TIC 408729765\".\n",
      "No data found for target \"TIC 408729765\".\n",
      "No data found for target \"TIC 400093775\".\n",
      "No data found for target \"TIC 400093775\".\n",
      "No data found for target \"TIC 39573090\".\n",
      "No data found for target \"TIC 39573090\".\n",
      "No data found for target \"TIC 371711170\".\n",
      "No data found for target \"TIC 371711170\".\n",
      "No data found for target \"TIC 279947414\".\n",
      "No data found for target \"TIC 138329479\".\n",
      "No data found for target \"TIC 138329479\".\n",
      "No data found for target \"TIC 137157546\".\n",
      "No data found for target \"TIC 103096524\".\n",
      "No data found for target \"TIC 103096524\".\n",
      "No data found for target \"TIC 102719996\".\n",
      "No data found for target \"TIC 102719996\".\n",
      "No data found for target \"TIC 406926040\".\n",
      "No data found for target \"TIC 1813844121\".\n",
      "No data found for target \"TIC 1813844121\".\n"
     ]
    }
   ],
   "source": [
    "#NOTE: an explanation of the relevant method here is in the README file for this repository\n",
    "\n",
    "#FINAL METHOD\n",
    "#change method based on duration_hours and fractional_duration\n",
    "#change time-bin size and size of the phase mask\n",
    "#catch AttributeError and TimeDivisionError\n",
    "#uses minmax normalization for all curves\n",
    "#downloads curves to a file on desktop; closes figures once completer \n",
    "\n",
    "import lightkurve as lk\n",
    "import numpy as np\n",
    "import matplotlib.pyplot as plt\n",
    "%matplotlib inline\n",
    "import csv\n",
    "\n",
    "data = \"finaldata.csv\"\n",
    "fields = []\n",
    "rows = []\n",
    "\n",
    "with open(data, 'r') as file:\n",
    "    read = csv.reader(file)\n",
    "    fields = next(read)\n",
    "    for row in read:\n",
    "        rows.append(row)\n",
    "\n",
    "path = \"/Users/anahitasrinivasan/Desktop/UROP Items/Lightcurves/\"\n",
    "author = \"\"\n",
    "\n",
    "for x in range(4100, 4200):\n",
    "    try:\n",
    "        TOI_name = \"TIC \" + rows[x][fields.index(\"TIC ID\")] \n",
    "        period = float(rows[x][fields.index(\"Period (days)\")])\n",
    "        t0 = float(rows[x][fields.index(\"Epoch (BJD)\")])\n",
    "        duration_hours = float(rows[x][fields.index(\"Duration (hours)\")])\n",
    "        fractional_duration = (duration_hours / 24.0) / period\n",
    "\n",
    "        if(duration_hours < 3.0): \n",
    "            \n",
    "            if(fractional_duration < 0.004): \n",
    "                search_result = lk.search_lightcurve(TOI_name, author=\"SPOC\", exptime=120)\n",
    "                author = \"SPOC\"\n",
    "                if(len(search_result) == 0):\n",
    "                    search_result = lk.search_lightcurve(TOI_name, author=\"TESS-SPOC\", exptime=1800)\n",
    "                    author = \"TESSSPOC\"\n",
    "                    if(len(search_result) == 0):\n",
    "                        search_result = lk.search_lightcurve(TOI_name, author=\"QLP\", exptime=1800)\n",
    "                        author = \"QLP\"\n",
    "\n",
    "                lcs = search_result.download_all() \n",
    "                lc_raw = lcs.stitch() \n",
    "\n",
    "                lc_clean = lc_raw.remove_outliers(sigma=20, sigma_upper=4) \n",
    "\n",
    "                temp_fold = lc_clean.fold(period, epoch_time=(t0-2457000))\n",
    "\n",
    "                fractional_duration = (duration_hours / 24.0) / period\n",
    "\n",
    "                phase_mask = (temp_fold.phase > -300*fractional_duration) & (temp_fold.phase < 300.0*fractional_duration)\n",
    "                lc_zoom = temp_fold[phase_mask]\n",
    "\n",
    "                lc_local = lc_zoom.bin(time_bin_size=0.0008)\n",
    "                lc_local = (lc_local - np.abs(np.nanmin(lc_local.flux))) / (np.abs(np.nanmax(lc_local.flux)) - np.abs(np.nanmin(lc_local.flux)))\n",
    "                \n",
    "                fig, axes = plt.subplots()\n",
    "                lc_local.scatter(ax=axes, color=\"black\")\n",
    "                fig.savefig(path + \"fig\" + str(x) + author + \".pdf\")\n",
    "                plt.close()\n",
    "            \n",
    "            if(fractional_duration < 0.01):\n",
    "                search_result = lk.search_lightcurve(TOI_name, author=\"SPOC\", exptime=120)\n",
    "                author = \"SPOC\"\n",
    "                if(len(search_result) == 0):\n",
    "                    search_result = lk.search_lightcurve(TOI_name, author=\"TESS-SPOC\", exptime=1800)\n",
    "                    author = \"TESSSPOC\"\n",
    "                    if(len(search_result) == 0):\n",
    "                        search_result = lk.search_lightcurve(TOI_name, author=\"QLP\", exptime=1800)\n",
    "                        author = \"QLP\"\n",
    "\n",
    "                lcs = search_result.download_all() \n",
    "                lc_raw = lcs.stitch() \n",
    "\n",
    "                lc_clean = lc_raw.remove_outliers(sigma=20, sigma_upper=4) \n",
    "\n",
    "                temp_fold = lc_clean.fold(period, epoch_time=(t0-2457000))\n",
    "\n",
    "                fractional_duration = (duration_hours / 24.0) / period\n",
    "\n",
    "                phase_mask = (temp_fold.phase > -15*fractional_duration) & (temp_fold.phase < 15.0*fractional_duration)\n",
    "                lc_zoom = temp_fold[phase_mask]\n",
    "\n",
    "                lc_local = lc_zoom.bin(time_bin_size=0.0044) \n",
    "                lc_local = (lc_local - np.abs(np.nanmin(lc_local.flux))) / (np.abs(np.nanmax(lc_local.flux)) - np.abs(np.nanmin(lc_local.flux)))\n",
    "                \n",
    "                fig, axes = plt.subplots()\n",
    "                lc_local.scatter(ax=axes, color=\"black\")\n",
    "                fig.savefig(path + \"fig\" + str(x) + author + \".pdf\")\n",
    "                plt.close()\n",
    "            \n",
    "            elif(fractional_duration < 0.04):\n",
    "                search_result = lk.search_lightcurve(TOI_name, author=\"SPOC\", exptime=120)\n",
    "                author = \"SPOC\"\n",
    "                if(len(search_result) == 0):\n",
    "                    search_result = lk.search_lightcurve(TOI_name, author=\"TESS-SPOC\", exptime=1800)\n",
    "                    author = \"TESSSPOC\"\n",
    "                    if(len(search_result) == 0):\n",
    "                        search_result = lk.search_lightcurve(TOI_name, author=\"QLP\", exptime=1800)\n",
    "                        author = \"QLP\"\n",
    "\n",
    "                lcs = search_result.download_all() \n",
    "                lc_raw = lcs.stitch() \n",
    "\n",
    "                lc_clean = lc_raw.remove_outliers(sigma=20, sigma_upper=4) \n",
    "\n",
    "                temp_fold = lc_clean.fold(period, epoch_time=(t0-2457000))\n",
    "\n",
    "                fractional_duration = (duration_hours / 24.0) / period\n",
    "\n",
    "                phase_mask = (temp_fold.phase > -4*fractional_duration) & (temp_fold.phase < 4.0*fractional_duration) \n",
    "                lc_zoom = temp_fold[phase_mask]\n",
    "\n",
    "                lc_local = lc_zoom.bin(time_bin_size=0.0008)\n",
    "                lc_local = (lc_local - np.abs(np.nanmin(lc_local.flux))) / (np.abs(np.nanmax(lc_local.flux)) - np.abs(np.nanmin(lc_local.flux)))\n",
    "                \n",
    "                fig, axes = plt.subplots()\n",
    "                lc_local.scatter(ax=axes, color=\"black\")\n",
    "                fig.savefig(path + \"fig\" + str(x) + author + \".pdf\")\n",
    "                plt.close()\n",
    "            \n",
    "            else:\n",
    "                search_result = lk.search_lightcurve(TOI_name, author=\"TESS-SPOC\", exptime=1800)\n",
    "                author = \"TESSSPOC\"\n",
    "                if(len(search_result) == 0):\n",
    "                    search_result = lk.search_lightcurve(TOI_name, author=\"SPOC\", exptime=120)\n",
    "                    author = \"SPOC\"\n",
    "                    if(len(search_result) == 0):\n",
    "                        search_result = lk.search_lightcurve(TOI_name, author=\"QLP\", exptime=1800)\n",
    "                        author = \"QLP\"\n",
    "\n",
    "                lcs = search_result.download_all() \n",
    "                lc_raw = lcs.stitch() \n",
    "\n",
    "                lc_clean = lc_raw.remove_outliers(sigma=20, sigma_upper=4) \n",
    "\n",
    "                temp_fold = lc_clean.fold(period, epoch_time=(t0-2457000))\n",
    "\n",
    "                fractional_duration = (duration_hours / 24.0) / period\n",
    "\n",
    "                phase_mask = np.abs(temp_fold.phase.value) < (fractional_duration * 1.5)\n",
    "                transit_mask = np.in1d(lc_clean.time.value, temp_fold.time_original.value[phase_mask])\n",
    "\n",
    "                lc_flat = lc_clean.flatten(mask=transit_mask)\n",
    "\n",
    "                lc_fold = lc_flat.fold(period, epoch_time=(t0-2457000))\n",
    "\n",
    "                lc_global = lc_fold.bin(time_bin_size=0.0008)\n",
    "\n",
    "                phase_mask = (lc_fold.phase > -15*fractional_duration) & (lc_fold.phase < 15.0*fractional_duration) \n",
    "                lc_zoom = lc_fold[phase_mask]\n",
    "\n",
    "                lc_local = lc_zoom.bin(time_bin_size=0.0008)  \n",
    "                lc_local = (lc_local - np.abs(np.nanmin(lc_local.flux))) / (np.abs(np.nanmax(lc_local.flux)) - np.abs(np.nanmin(lc_local.flux)))\n",
    "\n",
    "                fig, axes = plt.subplots()\n",
    "                lc_local.scatter(ax=axes, color=\"black\")\n",
    "                fig.savefig(path + \"fig\" + str(x) + author + \".pdf\")\n",
    "                plt.close()\n",
    "    \n",
    "        elif(duration_hours < 5.0):\n",
    "            search_result = lk.search_lightcurve(TOI_name, author=\"SPOC\", exptime=120)\n",
    "            author = \"SPOC\"\n",
    "            if(len(search_result) == 0):\n",
    "                search_result = lk.search_lightcurve(TOI_name, author=\"TESS-SPOC\", exptime=1800)\n",
    "                author = \"TESSSPOC\"\n",
    "                if(len(search_result) == 0):\n",
    "                    search_result = lk.search_lightcurve(TOI_name, author=\"QLP\", exptime=1800)\n",
    "                    author = \"QLP\"\n",
    "\n",
    "            lcs = search_result.download_all() \n",
    "            lc_raw = lcs.stitch() \n",
    "\n",
    "            lc_clean = lc_raw.remove_outliers(sigma=20, sigma_upper=4) \n",
    "\n",
    "            temp_fold = lc_clean.fold(period, epoch_time=(t0-2457000))\n",
    "\n",
    "            fractional_duration = (duration_hours / 24.0) / period\n",
    "\n",
    "            phase_mask = (temp_fold.phase > -25*fractional_duration) & (temp_fold.phase < 25.0*fractional_duration) \n",
    "            lc_zoom = temp_fold[phase_mask]\n",
    "\n",
    "            lc_local = lc_zoom.bin(time_bin_size=0.0008)\n",
    "            lc_local = (lc_local - np.abs(np.nanmin(lc_local.flux))) / (np.abs(np.nanmax(lc_local.flux)) - np.abs(np.nanmin(lc_local.flux)))\n",
    "            \n",
    "            fig, axes = plt.subplots()\n",
    "            lc_local.scatter(ax=axes, color=\"black\")\n",
    "            fig.savefig(path + \"fig\" + str(x) + author + \".pdf\")\n",
    "            plt.close()\n",
    "        \n",
    "        else:\n",
    "            if(fractional_duration < 0.02):\n",
    "                search_result = lk.search_lightcurve(TOI_name, author=\"TESS-SPOC\", exptime=1800)\n",
    "                author = \"TESSSPOC\"\n",
    "                if(len(search_result) == 0):\n",
    "                    search_result = lk.search_lightcurve(TOI_name, author=\"SPOC\", exptime=120)\n",
    "                    author = \"SPOC\"\n",
    "                    if(len(search_result) == 0):\n",
    "                        search_result = lk.search_lightcurve(TOI_name, author=\"QLP\", exptime=1800)\n",
    "                        author = \"QLP\"\n",
    "\n",
    "                lcs = search_result.download_all() \n",
    "                lc_raw = lcs.stitch() \n",
    "\n",
    "                lc_clean = lc_raw.remove_outliers(sigma=20, sigma_upper=4) \n",
    "\n",
    "                temp_fold = lc_clean.fold(period, epoch_time=(t0-2457000))\n",
    "\n",
    "                fractional_duration = (duration_hours / 24.0) / period\n",
    "\n",
    "                phase_mask = (temp_fold.phase > -300*fractional_duration) & (temp_fold.phase < 300.0*fractional_duration)\n",
    "                lc_zoom = temp_fold[phase_mask]\n",
    "\n",
    "                lc_local = lc_zoom.bin(time_bin_size=0.0008)\n",
    "                lc_local = (lc_local - np.abs(np.nanmin(lc_local.flux))) / (np.abs(np.nanmax(lc_local.flux)) - np.abs(np.nanmin(lc_local.flux)))\n",
    "                \n",
    "                fig, axes = plt.subplots()\n",
    "                lc_local.scatter(ax=axes, color=\"black\")\n",
    "                fig.savefig(path + \"fig\" + str(x) + author + \".pdf\")\n",
    "                plt.close()\n",
    "                \n",
    "            else:\n",
    "                search_result = lk.search_lightcurve(TOI_name, author=\"TESS-SPOC\", exptime=1800)\n",
    "                author = \"TESSSPOC\"\n",
    "                if(len(search_result) == 0):\n",
    "                    search_result = lk.search_lightcurve(TOI_name, author=\"SPOC\", exptime=120)\n",
    "                    author = \"SPOC\"\n",
    "                    if(len(search_result) == 0):\n",
    "                        search_result = lk.search_lightcurve(TOI_name, author=\"QLP\", exptime=1800)\n",
    "                        author = \"QLP\"\n",
    "\n",
    "                lcs = search_result.download_all() \n",
    "                lc_raw = lcs.stitch() \n",
    "\n",
    "                lc_clean = lc_raw.remove_outliers(sigma=20, sigma_upper=4) \n",
    "\n",
    "                temp_fold = lc_clean.fold(period, epoch_time=(t0-2457000))\n",
    "\n",
    "                fractional_duration = (duration_hours / 24.0) / period\n",
    "\n",
    "                phase_mask = np.abs(temp_fold.phase.value) < (fractional_duration * 1.5)\n",
    "                transit_mask = np.in1d(lc_clean.time.value, temp_fold.time_original.value[phase_mask])\n",
    "\n",
    "                lc_flat = lc_clean.flatten(mask=transit_mask)\n",
    "\n",
    "                lc_fold = lc_flat.fold(period, epoch_time=(t0-2457000))\n",
    "\n",
    "                lc_global = lc_fold.bin(time_bin_size=0.0008) \n",
    "\n",
    "                phase_mask = (lc_fold.phase > -15*fractional_duration) & (lc_fold.phase < 15.0*fractional_duration) \n",
    "                lc_zoom = lc_fold[phase_mask]\n",
    "\n",
    "                lc_local = lc_zoom.bin(time_bin_size=0.0008)  \n",
    "                lc_local = (lc_local - np.abs(np.nanmin(lc_local.flux))) / (np.abs(np.nanmax(lc_local.flux)) - np.abs(np.nanmin(lc_local.flux)))\n",
    "                \n",
    "                fig, axes = plt.subplots()\n",
    "                lc_local.scatter(ax=axes, color=\"black\")\n",
    "                fig.savefig(path + \"fig\" + str(x) + author + \".pdf\")\n",
    "                plt.close()\n",
    "    \n",
    "    except AttributeError:\n",
    "        print(\"AttributeError occured with\", TOI_name, \"item\", str(x))\n",
    "    except ZeroDivisionError:\n",
    "        print(\"ZeroDivisionError occured with\", TOI_name, \"item\", str(x))\n",
    "    except:\n",
    "        print(\"An error occured with\", TOI_name, \"item\", str(x))"
   ]
  },
  {
   "cell_type": "code",
   "execution_count": 1,
   "id": "c1ff9cce",
   "metadata": {},
   "outputs": [
    {
     "name": "stderr",
     "output_type": "stream",
     "text": [
      "No data found for target \"TIC 237637903\".\n",
      "No data found for target \"TIC 237637903\".\n",
      "No data found for target \"TIC 23725901\".\n",
      "No data found for target \"TIC 23725901\".\n",
      "No data found for target \"TIC 293931909\".\n",
      "No data found for target \"TIC 293931909\".\n",
      "No data found for target \"TIC 269278156\".\n",
      "No data found for target \"TIC 269278156\".\n",
      "No data found for target \"TIC 160180298\".\n",
      "No data found for target \"TIC 235078021\".\n",
      "No data found for target \"TIC 59770954\".\n",
      "No data found for target \"TIC 59770954\".\n",
      "No data found for target \"TIC 153412485\".\n",
      "No data found for target \"TIC 153412485\".\n",
      "No data found for target \"TIC 317189702\".\n",
      "No data found for target \"TIC 291580615\".\n",
      "No data found for target \"TIC 291580615\".\n",
      "No data found for target \"TIC 237700098\".\n",
      "No data found for target \"TIC 237700098\".\n",
      "No data found for target \"TIC 306604742\".\n",
      "No data found for target \"TIC 306604742\".\n",
      "No data found for target \"TIC 61344769\".\n",
      "No data found for target \"TIC 61344769\".\n",
      "No data found for target \"TIC 267197567\".\n",
      "No data found for target \"TIC 119556803\".\n",
      "No data found for target \"TIC 119556803\".\n",
      "No data found for target \"TIC 53744258\".\n",
      "No data found for target \"TIC 53744258\".\n",
      "No data found for target \"TIC 34524670\".\n",
      "No data found for target \"TIC 34524670\".\n",
      "No data found for target \"TIC 49705089\".\n",
      "No data found for target \"TIC 49705089\".\n",
      "No data found for target \"TIC 291332861\".\n",
      "No data found for target \"TIC 291332861\".\n",
      "No data found for target \"TIC 440849210\".\n",
      "No data found for target \"TIC 119069946\".\n",
      "No data found for target \"TIC 143072696\".\n",
      "No data found for target \"TIC 143072696\".\n",
      "No data found for target \"TIC 268456052\".\n",
      "No data found for target \"TIC 268456052\".\n",
      "/Users/anahitasrinivasan/opt/anaconda3/lib/python3.9/site-packages/lightkurve/search.py:414: LightkurveWarning: Cannot download from an empty search result.\n",
      "  warnings.warn(\n"
     ]
    },
    {
     "name": "stdout",
     "output_type": "stream",
     "text": [
      "AttributeError occured with TIC 268456052 item 4822\n"
     ]
    },
    {
     "name": "stderr",
     "output_type": "stream",
     "text": [
      "No data found for target \"TIC 21747057\".\n",
      "No data found for target \"TIC 21747057\".\n",
      "No data found for target \"TIC 271307949\".\n",
      "No data found for target \"TIC 271307949\".\n",
      "No data found for target \"TIC 157127081\".\n",
      "No data found for target \"TIC 157127081\".\n",
      "No data found for target \"TIC 108940329\".\n",
      "No data found for target \"TIC 333814134\".\n",
      "No data found for target \"TIC 333814134\".\n",
      "No data found for target \"TIC 112110888\".\n",
      "No data found for target \"TIC 112110888\".\n",
      "No data found for target \"TIC 266441563\".\n",
      "No data found for target \"TIC 455153906\".\n",
      "No data found for target \"TIC 455153906\".\n",
      "No data found for target \"TIC 415276070\".\n",
      "/Users/anahitasrinivasan/opt/anaconda3/lib/python3.9/site-packages/lightkurve/search.py:414: LightkurveWarning: Cannot download from an empty search result.\n",
      "  warnings.warn(\n"
     ]
    },
    {
     "name": "stdout",
     "output_type": "stream",
     "text": [
      "AttributeError occured with TIC 415276070 item 4831\n"
     ]
    },
    {
     "name": "stderr",
     "output_type": "stream",
     "text": [
      "No data found for target \"TIC 148129139\".\n",
      "No data found for target \"TIC 148129139\".\n",
      "No data found for target \"TIC 412521892\".\n",
      "No data found for target \"TIC 412521892\".\n",
      "No data found for target \"TIC 196286578\".\n",
      "No data found for target \"TIC 196286578\".\n",
      "/Users/anahitasrinivasan/opt/anaconda3/lib/python3.9/site-packages/lightkurve/collections.py:212: LightkurveWarning: The following columns will be excluded from stitching because the column types are incompatible: {'kspsap_flux', 'sap_flux', 'kspsap_flux_lag', 'sap_bkg_err', 'kspsap_flux_sml', 'sap_bkg'}\n",
      "  warnings.warn(\n",
      "No data found for target \"TIC 170368805\".\n",
      "No data found for target \"TIC 170368805\".\n",
      "No data found for target \"TIC 145163386\".\n",
      "No data found for target \"TIC 145163386\".\n",
      "/Users/anahitasrinivasan/opt/anaconda3/lib/python3.9/site-packages/lightkurve/collections.py:212: LightkurveWarning: The following columns will be excluded from stitching because the column types are incompatible: {'kspsap_flux', 'sap_flux', 'kspsap_flux_lag', 'sap_bkg_err', 'kspsap_flux_sml', 'sap_bkg'}\n",
      "  warnings.warn(\n",
      "No data found for target \"TIC 170221808\".\n",
      "No data found for target \"TIC 170221808\".\n",
      "No data found for target \"TIC 231937828\".\n",
      "No data found for target \"TIC 231937828\".\n",
      "No data found for target \"TIC 176242778\".\n",
      "No data found for target \"TIC 176242778\".\n",
      "No data found for target \"TIC 423128096\".\n",
      "No data found for target \"TIC 423128096\".\n",
      "No data found for target \"TIC 218988652\".\n",
      "No data found for target \"TIC 218988652\".\n",
      "/Users/anahitasrinivasan/opt/anaconda3/lib/python3.9/site-packages/lightkurve/collections.py:212: LightkurveWarning: The following columns will be excluded from stitching because the column types are incompatible: {'kspsap_flux', 'sap_flux', 'kspsap_flux_lag', 'sap_bkg_err', 'kspsap_flux_sml', 'sap_bkg'}\n",
      "  warnings.warn(\n",
      "No data found for target \"TIC 409207712\".\n",
      "No data found for target \"TIC 409207712\".\n",
      "No data found for target \"TIC 50751260\".\n",
      "No data found for target \"TIC 50751260\".\n",
      "No data found for target \"TIC 127012328\".\n",
      "No data found for target \"TIC 127012328\".\n",
      "No data found for target \"TIC 431981595\".\n",
      "No data found for target \"TIC 431981595\".\n",
      "No data found for target \"TIC 156999527\".\n",
      "No data found for target \"TIC 156999527\".\n",
      "No data found for target \"TIC 134221850\".\n",
      "No data found for target \"TIC 134221850\".\n",
      "No data found for target \"TIC 452903647\".\n",
      "No data found for target \"TIC 452903647\".\n",
      "No data found for target \"TIC 100389539\".\n",
      "/Users/anahitasrinivasan/opt/anaconda3/lib/python3.9/site-packages/lightkurve/search.py:414: LightkurveWarning: Cannot download from an empty search result.\n",
      "  warnings.warn(\n"
     ]
    },
    {
     "name": "stdout",
     "output_type": "stream",
     "text": [
      "AttributeError occured with TIC 100389539 item 4849\n"
     ]
    },
    {
     "name": "stderr",
     "output_type": "stream",
     "text": [
      "No data found for target \"TIC 265350422\".\n",
      "No data found for target \"TIC 65949719\".\n",
      "No data found for target \"TIC 65949719\".\n",
      "No data found for target \"TIC 95589845\".\n",
      "No data found for target \"TIC 95589845\".\n",
      "No data found for target \"TIC 107090327\".\n",
      "No data found for target \"TIC 107090327\".\n",
      "No data found for target \"TIC 65905621\".\n",
      "No data found for target \"TIC 65905621\".\n",
      "No data found for target \"TIC 265011923\".\n",
      "No data found for target \"TIC 265011923\".\n",
      "No data found for target \"TIC 274137295\".\n",
      "No data found for target \"TIC 274137295\".\n",
      "No data found for target \"TIC 65805840\".\n",
      "No data found for target \"TIC 65805840\".\n",
      "No data found for target \"TIC 280307604\".\n",
      "No data found for target \"TIC 280307604\".\n",
      "No data found for target \"TIC 419092044\".\n",
      "No data found for target \"TIC 419092044\".\n",
      "/Users/anahitasrinivasan/opt/anaconda3/lib/python3.9/site-packages/lightkurve/collections.py:212: LightkurveWarning: The following columns will be excluded from stitching because the column types are incompatible: {'kspsap_flux', 'sap_flux', 'kspsap_flux_lag', 'sap_bkg_err', 'kspsap_flux_sml', 'sap_bkg'}\n",
      "  warnings.warn(\n",
      "No data found for target \"TIC 50575306\".\n",
      "No data found for target \"TIC 50575306\".\n",
      "No data found for target \"TIC 19117967\".\n",
      "/Users/anahitasrinivasan/opt/anaconda3/lib/python3.9/site-packages/lightkurve/search.py:414: LightkurveWarning: Cannot download from an empty search result.\n",
      "  warnings.warn(\n"
     ]
    },
    {
     "name": "stdout",
     "output_type": "stream",
     "text": [
      "AttributeError occured with TIC 19117967 item 4861\n"
     ]
    },
    {
     "name": "stderr",
     "output_type": "stream",
     "text": [
      "No data found for target \"TIC 320341952\".\n",
      "No data found for target \"TIC 7976072\".\n",
      "No data found for target \"TIC 7976072\".\n",
      "No data found for target \"TIC 96317115\".\n",
      "No data found for target \"TIC 174546820\".\n",
      "No data found for target \"TIC 174546820\".\n",
      "No data found for target \"TIC 126772538\".\n",
      "No data found for target \"TIC 126772538\".\n",
      "No data found for target \"TIC 143724857\".\n",
      "No data found for target \"TIC 143724857\".\n"
     ]
    },
    {
     "name": "stdout",
     "output_type": "stream",
     "text": [
      "An error occured with TIC 143724857 item 4867\n"
     ]
    },
    {
     "name": "stderr",
     "output_type": "stream",
     "text": [
      "No data found for target \"TIC 281225729\".\n",
      "No data found for target \"TIC 281225729\".\n",
      "No data found for target \"TIC 334414389\".\n",
      "No data found for target \"TIC 334414389\".\n",
      "No data found for target \"TIC 81744640\".\n",
      "No data found for target \"TIC 81744640\".\n",
      "No data found for target \"TIC 333810741\".\n",
      "No data found for target \"TIC 333810741\".\n",
      "No data found for target \"TIC 32004914\".\n",
      "No data found for target \"TIC 32004914\".\n",
      "No data found for target \"TIC 19447218\".\n",
      "No data found for target \"TIC 19447218\".\n",
      "No data found for target \"TIC 156990000\".\n",
      "No data found for target \"TIC 156990000\".\n",
      "No data found for target \"TIC 60074373\".\n",
      "No data found for target \"TIC 60074373\".\n",
      "/Users/anahitasrinivasan/opt/anaconda3/lib/python3.9/site-packages/lightkurve/search.py:414: LightkurveWarning: Cannot download from an empty search result.\n",
      "  warnings.warn(\n"
     ]
    },
    {
     "name": "stdout",
     "output_type": "stream",
     "text": [
      "AttributeError occured with TIC 60074373 item 4875\n"
     ]
    },
    {
     "name": "stderr",
     "output_type": "stream",
     "text": [
      "No data found for target \"TIC 181422954\".\n",
      "No data found for target \"TIC 181422954\".\n",
      "No data found for target \"TIC 82739585\".\n",
      "No data found for target \"TIC 82739585\".\n",
      "/Users/anahitasrinivasan/opt/anaconda3/lib/python3.9/site-packages/lightkurve/search.py:414: LightkurveWarning: Cannot download from an empty search result.\n",
      "  warnings.warn(\n"
     ]
    },
    {
     "name": "stdout",
     "output_type": "stream",
     "text": [
      "AttributeError occured with TIC 82739585 item 4877\n"
     ]
    },
    {
     "name": "stderr",
     "output_type": "stream",
     "text": [
      "No data found for target \"TIC 394223845\".\n",
      "No data found for target \"TIC 394223845\".\n",
      "No data found for target \"TIC 354937825\".\n",
      "No data found for target \"TIC 354937825\".\n",
      "No data found for target \"TIC 52936161\".\n",
      "No data found for target \"TIC 52936161\".\n",
      "No data found for target \"TIC 348756659\".\n",
      "No data found for target \"TIC 348756659\".\n",
      "No data found for target \"TIC 179687771\".\n",
      "No data found for target \"TIC 53047383\".\n",
      "No data found for target \"TIC 53047383\".\n",
      "/Users/anahitasrinivasan/opt/anaconda3/lib/python3.9/site-packages/lightkurve/search.py:414: LightkurveWarning: Cannot download from an empty search result.\n",
      "  warnings.warn(\n"
     ]
    },
    {
     "name": "stdout",
     "output_type": "stream",
     "text": [
      "AttributeError occured with TIC 53047383 item 4883\n"
     ]
    },
    {
     "name": "stderr",
     "output_type": "stream",
     "text": [
      "No data found for target \"TIC 17683158\".\n",
      "No data found for target \"TIC 17683158\".\n",
      "No data found for target \"TIC 332630868\".\n",
      "No data found for target \"TIC 332630868\".\n"
     ]
    },
    {
     "name": "stdout",
     "output_type": "stream",
     "text": [
      "An error occured with TIC 332630868 item 4885\n"
     ]
    },
    {
     "name": "stderr",
     "output_type": "stream",
     "text": [
      "No data found for target \"TIC 291469139\".\n",
      "No data found for target \"TIC 291469139\".\n",
      "No data found for target \"TIC 268439377\".\n",
      "No data found for target \"TIC 268439377\".\n",
      "No data found for target \"TIC 1260235\".\n",
      "No data found for target \"TIC 1260235\".\n",
      "No data found for target \"TIC 17896514\".\n",
      "No data found for target \"TIC 17896514\".\n",
      "No data found for target \"TIC 186470968\".\n",
      "No data found for target \"TIC 186470968\".\n",
      "/Users/anahitasrinivasan/opt/anaconda3/lib/python3.9/site-packages/lightkurve/search.py:414: LightkurveWarning: Cannot download from an empty search result.\n",
      "  warnings.warn(\n"
     ]
    },
    {
     "name": "stdout",
     "output_type": "stream",
     "text": [
      "AttributeError occured with TIC 186470968 item 4890\n"
     ]
    },
    {
     "name": "stderr",
     "output_type": "stream",
     "text": [
      "No data found for target \"TIC 176442805\".\n",
      "No data found for target \"TIC 77550515\".\n",
      "No data found for target \"TIC 77550515\".\n",
      "No data found for target \"TIC 434428836\".\n",
      "No data found for target \"TIC 434428836\".\n",
      "No data found for target \"TIC 231559817\".\n",
      "No data found for target \"TIC 231559817\".\n",
      "No data found for target \"TIC 19612445\".\n",
      "No data found for target \"TIC 19612445\".\n",
      "No data found for target \"TIC 38118291\".\n",
      "No data found for target \"TIC 38118291\".\n",
      "No data found for target \"TIC 80029842\".\n",
      "No data found for target \"TIC 80029842\".\n",
      "No data found for target \"TIC 131034657\".\n",
      "No data found for target \"TIC 131034657\".\n",
      "No data found for target \"TIC 258051471\".\n",
      "No data found for target \"TIC 258051471\".\n",
      "No data found for target \"TIC 143994382\".\n",
      "No data found for target \"TIC 143994382\".\n",
      "No data found for target \"TIC 26305150\".\n",
      "/Users/anahitasrinivasan/opt/anaconda3/lib/python3.9/site-packages/lightkurve/search.py:414: LightkurveWarning: Cannot download from an empty search result.\n",
      "  warnings.warn(\n"
     ]
    },
    {
     "name": "stdout",
     "output_type": "stream",
     "text": [
      "AttributeError occured with TIC 26305150 item 4903\n"
     ]
    },
    {
     "name": "stderr",
     "output_type": "stream",
     "text": [
      "No data found for target \"TIC 418971787\".\n",
      "No data found for target \"TIC 418971787\".\n",
      "No data found for target \"TIC 186541435\".\n",
      "No data found for target \"TIC 186541435\".\n",
      "No data found for target \"TIC 134596619\".\n",
      "No data found for target \"TIC 134596619\".\n",
      "No data found for target \"TIC 132534906\".\n",
      "No data found for target \"TIC 132534906\".\n",
      "/Users/anahitasrinivasan/opt/anaconda3/lib/python3.9/site-packages/lightkurve/collections.py:212: LightkurveWarning: The following columns will be excluded from stitching because the column types are incompatible: {'kspsap_flux', 'sap_flux'}\n",
      "  warnings.warn(\n",
      "No data found for target \"TIC 332705008\".\n",
      "No data found for target \"TIC 332705008\".\n",
      "/Users/anahitasrinivasan/opt/anaconda3/lib/python3.9/site-packages/lightkurve/lightcurve.py:1042: LightkurveWarning: The light curve appears to be zero-centered (median=1.00e+00 +/- 5.00e+00); `normalize()` will divide the light curve by a value close to zero, which is probably not what you want.\n",
      "  warnings.warn(\n",
      "No data found for target \"TIC 74712191\".\n",
      "No data found for target \"TIC 74530173\".\n",
      "No data found for target \"TIC 74530173\".\n",
      "No data found for target \"TIC 70780410\".\n",
      "No data found for target \"TIC 70780410\".\n",
      "No data found for target \"TIC 44514807\".\n",
      "No data found for target \"TIC 44514807\".\n",
      "No data found for target \"TIC 428685938\".\n",
      "No data found for target \"TIC 428685938\".\n",
      "No data found for target \"TIC 428685938\".\n",
      "/Users/anahitasrinivasan/opt/anaconda3/lib/python3.9/site-packages/lightkurve/search.py:414: LightkurveWarning: Cannot download from an empty search result.\n",
      "  warnings.warn(\n"
     ]
    },
    {
     "name": "stdout",
     "output_type": "stream",
     "text": [
      "AttributeError occured with TIC 428685938 item 4914\n"
     ]
    },
    {
     "name": "stderr",
     "output_type": "stream",
     "text": [
      "No data found for target \"TIC 35972578\".\n",
      "No data found for target \"TIC 35972578\".\n",
      "No data found for target \"TIC 262499797\".\n",
      "No data found for target \"TIC 262499797\".\n",
      "/Users/anahitasrinivasan/opt/anaconda3/lib/python3.9/site-packages/lightkurve/search.py:414: LightkurveWarning: Cannot download from an empty search result.\n",
      "  warnings.warn(\n"
     ]
    },
    {
     "name": "stdout",
     "output_type": "stream",
     "text": [
      "AttributeError occured with TIC 262499797 item 4916\n"
     ]
    },
    {
     "name": "stderr",
     "output_type": "stream",
     "text": [
      "No data found for target \"TIC 152467154\".\n",
      "No data found for target \"TIC 152467154\".\n",
      "No data found for target \"TIC 335590096\".\n"
     ]
    },
    {
     "name": "stdout",
     "output_type": "stream",
     "text": [
      "ZeroDivisionError occured with TIC 322807371 item 4920\n"
     ]
    },
    {
     "name": "stderr",
     "output_type": "stream",
     "text": [
      "No data found for target \"TIC 143032776\".\n",
      "No data found for target \"TIC 143032776\".\n",
      "No data found for target \"TIC 143032776\".\n",
      "/Users/anahitasrinivasan/opt/anaconda3/lib/python3.9/site-packages/lightkurve/search.py:414: LightkurveWarning: Cannot download from an empty search result.\n",
      "  warnings.warn(\n"
     ]
    },
    {
     "name": "stdout",
     "output_type": "stream",
     "text": [
      "AttributeError occured with TIC 143032776 item 4921\n"
     ]
    },
    {
     "name": "stderr",
     "output_type": "stream",
     "text": [
      "No data found for target \"TIC 48274889\".\n",
      "No data found for target \"TIC 48274889\".\n",
      "No data found for target \"TIC 143059017\".\n",
      "No data found for target \"TIC 143059017\".\n",
      "No data found for target \"TIC 143059017\".\n",
      "/Users/anahitasrinivasan/opt/anaconda3/lib/python3.9/site-packages/lightkurve/search.py:414: LightkurveWarning: Cannot download from an empty search result.\n",
      "  warnings.warn(\n"
     ]
    },
    {
     "name": "stdout",
     "output_type": "stream",
     "text": [
      "AttributeError occured with TIC 143059017 item 4923\n"
     ]
    },
    {
     "name": "stderr",
     "output_type": "stream",
     "text": [
      "No data found for target \"TIC 35758536\".\n",
      "No data found for target \"TIC 35758536\".\n",
      "No data found for target \"TIC 74484423\".\n",
      "No data found for target \"TIC 74484423\".\n",
      "No data found for target \"TIC 362370757\".\n",
      "No data found for target \"TIC 362370757\".\n",
      "No data found for target \"TIC 71221700\".\n",
      "No data found for target \"TIC 71221700\".\n",
      "No data found for target \"TIC 446135868\".\n",
      "No data found for target \"TIC 446135868\".\n",
      "No data found for target \"TIC 168158622\".\n",
      "No data found for target \"TIC 168158622\".\n",
      "No data found for target \"TIC 310822679\".\n",
      "No data found for target \"TIC 310822679\".\n",
      "No data found for target \"TIC 463754499\".\n",
      "No data found for target \"TIC 463754499\".\n",
      "No data found for target \"TIC 133512515\".\n",
      "No data found for target \"TIC 133512515\".\n",
      "No data found for target \"TIC 458300989\".\n",
      "No data found for target \"TIC 458300989\".\n",
      "No data found for target \"TIC 447054140\".\n",
      "No data found for target \"TIC 144155193\".\n",
      "No data found for target \"TIC 144155193\".\n",
      "No data found for target \"TIC 45465399\".\n",
      "No data found for target \"TIC 45465399\".\n",
      "No data found for target \"TIC 245099574\".\n",
      "No data found for target \"TIC 245099574\".\n",
      "No data found for target \"TIC 245099574\".\n",
      "/Users/anahitasrinivasan/opt/anaconda3/lib/python3.9/site-packages/lightkurve/search.py:414: LightkurveWarning: Cannot download from an empty search result.\n",
      "  warnings.warn(\n"
     ]
    },
    {
     "name": "stdout",
     "output_type": "stream",
     "text": [
      "AttributeError occured with TIC 245099574 item 4938\n"
     ]
    },
    {
     "name": "stderr",
     "output_type": "stream",
     "text": [
      "No data found for target \"TIC 359735804\".\n",
      "No data found for target \"TIC 359735804\".\n",
      "No data found for target \"TIC 458331312\".\n",
      "No data found for target \"TIC 458331312\".\n",
      "No data found for target \"TIC 446463666\".\n",
      "No data found for target \"TIC 446463666\".\n",
      "No data found for target \"TIC 80681136\".\n",
      "No data found for target \"TIC 80681136\".\n",
      "No data found for target \"TIC 72504752\".\n",
      "No data found for target \"TIC 72504752\".\n",
      "No data found for target \"TIC 457743020\".\n",
      "No data found for target \"TIC 457743020\".\n",
      "No data found for target \"TIC 274911400\".\n",
      "No data found for target \"TIC 274911400\".\n",
      "No data found for target \"TIC 309292963\".\n",
      "No data found for target \"TIC 441936163\".\n",
      "No data found for target \"TIC 441936163\".\n",
      "No data found for target \"TIC 92004082\".\n",
      "No data found for target \"TIC 92004082\".\n",
      "/Users/anahitasrinivasan/opt/anaconda3/lib/python3.9/site-packages/lightkurve/search.py:414: LightkurveWarning: Cannot download from an empty search result.\n",
      "  warnings.warn(\n"
     ]
    },
    {
     "name": "stdout",
     "output_type": "stream",
     "text": [
      "AttributeError occured with TIC 92004082 item 4948\n"
     ]
    },
    {
     "name": "stderr",
     "output_type": "stream",
     "text": [
      "No data found for target \"TIC 458199018\".\n",
      "No data found for target \"TIC 458199018\".\n",
      "No data found for target \"TIC 6010784\".\n",
      "No data found for target \"TIC 6010784\".\n",
      "No data found for target \"TIC 441234277\".\n",
      "No data found for target \"TIC 441234277\".\n",
      "/Users/anahitasrinivasan/opt/anaconda3/lib/python3.9/site-packages/lightkurve/collections.py:212: LightkurveWarning: The following columns will be excluded from stitching because the column types are incompatible: {'kspsap_flux_lag'}\n",
      "  warnings.warn(\n",
      "No data found for target \"TIC 469333534\".\n",
      "No data found for target \"TIC 469333534\".\n",
      "No data found for target \"TIC 463365347\".\n",
      "No data found for target \"TIC 463365347\".\n",
      "No data found for target \"TIC 438278301\".\n",
      "No data found for target \"TIC 438278301\".\n",
      "No data found for target \"TIC 81693792\".\n",
      "No data found for target \"TIC 81693792\".\n",
      "No data found for target \"TIC 124235800\".\n",
      "No data found for target \"TIC 376610581\".\n",
      "No data found for target \"TIC 376610581\".\n",
      "No data found for target \"TIC 425508314\".\n",
      "No data found for target \"TIC 425508314\".\n",
      "/Users/anahitasrinivasan/opt/anaconda3/lib/python3.9/site-packages/lightkurve/lightcurve.py:1042: LightkurveWarning: The light curve appears to be zero-centered (median=1.00e+00 +/- 2.11e+00); `normalize()` will divide the light curve by a value close to zero, which is probably not what you want.\n",
      "  warnings.warn(\n"
     ]
    },
    {
     "name": "stdout",
     "output_type": "stream",
     "text": [
      "An error occured with TIC 425508314 item 4958\n"
     ]
    },
    {
     "name": "stderr",
     "output_type": "stream",
     "text": [
      "No data found for target \"TIC 107017977\".\n",
      "No data found for target \"TIC 358072664\".\n",
      "No data found for target \"TIC 358072664\".\n",
      "No data found for target \"TIC 457789844\".\n",
      "No data found for target \"TIC 457789844\".\n",
      "No data found for target \"TIC 464388115\".\n",
      "No data found for target \"TIC 464388115\".\n",
      "No data found for target \"TIC 463011281\".\n",
      "No data found for target \"TIC 463011281\".\n",
      "No data found for target \"TIC 385459345\".\n",
      "No data found for target \"TIC 385459345\".\n",
      "No data found for target \"TIC 447585233\".\n",
      "No data found for target \"TIC 447585233\".\n",
      "No data found for target \"TIC 356835341\".\n",
      "No data found for target \"TIC 356835341\".\n",
      "No data found for target \"TIC 303327435\".\n",
      "No data found for target \"TIC 303327435\".\n",
      "/Users/anahitasrinivasan/opt/anaconda3/lib/python3.9/site-packages/lightkurve/lightcurve.py:1042: LightkurveWarning: The light curve appears to be zero-centered (median=1.00e+00 +/- 3.81e+01); `normalize()` will divide the light curve by a value close to zero, which is probably not what you want.\n",
      "  warnings.warn(\n",
      "No data found for target \"TIC 303814029\".\n",
      "No data found for target \"TIC 303814029\".\n",
      "No data found for target \"TIC 219769290\".\n",
      "No data found for target \"TIC 219769290\".\n",
      "No data found for target \"TIC 72401290\".\n",
      "No data found for target \"TIC 49254857\".\n",
      "No data found for target \"TIC 49254857\".\n",
      "/Users/anahitasrinivasan/opt/anaconda3/lib/python3.9/site-packages/lightkurve/search.py:414: LightkurveWarning: Cannot download from an empty search result.\n",
      "  warnings.warn(\n"
     ]
    },
    {
     "name": "stdout",
     "output_type": "stream",
     "text": [
      "AttributeError occured with TIC 49254857 item 4972\n"
     ]
    },
    {
     "name": "stderr",
     "output_type": "stream",
     "text": [
      "No data found for target \"TIC 440937096\".\n",
      "No data found for target \"TIC 440937096\".\n",
      "No data found for target \"TIC 454069765\".\n",
      "No data found for target \"TIC 317362389\".\n",
      "No data found for target \"TIC 317362389\".\n",
      "/Users/anahitasrinivasan/opt/anaconda3/lib/python3.9/site-packages/numpy/lib/nanfunctions.py:1113: RuntimeWarning: All-NaN slice encountered\n",
      "  r, k = function_base._ureduce(a, func=_nanmedian, axis=axis, out=out,\n",
      "<__array_function__ internals>:5: RuntimeWarning: Degrees of freedom <= 0 for slice.\n"
     ]
    },
    {
     "name": "stdout",
     "output_type": "stream",
     "text": [
      "An error occured with TIC 317362389 item 4975\n"
     ]
    },
    {
     "name": "stderr",
     "output_type": "stream",
     "text": [
      "No data found for target \"TIC 60859922\".\n",
      "No data found for target \"TIC 155419920\".\n",
      "No data found for target \"TIC 155419920\".\n",
      "No data found for target \"TIC 132611413\".\n",
      "No data found for target \"TIC 132611413\".\n",
      "No data found for target \"TIC 404227343\".\n",
      "No data found for target \"TIC 404227343\".\n",
      "No data found for target \"TIC 404227343\".\n",
      "/Users/anahitasrinivasan/opt/anaconda3/lib/python3.9/site-packages/lightkurve/search.py:414: LightkurveWarning: Cannot download from an empty search result.\n",
      "  warnings.warn(\n"
     ]
    },
    {
     "name": "stdout",
     "output_type": "stream",
     "text": [
      "AttributeError occured with TIC 404227343 item 4979\n"
     ]
    },
    {
     "name": "stderr",
     "output_type": "stream",
     "text": [
      "No data found for target \"TIC 411943564\".\n",
      "No data found for target \"TIC 411943564\".\n",
      "No data found for target \"TIC 219181903\".\n",
      "No data found for target \"TIC 307099276\".\n",
      "No data found for target \"TIC 307099276\".\n",
      "No data found for target \"TIC 399847887\".\n",
      "No data found for target \"TIC 399847887\".\n",
      "No data found for target \"TIC 376421071\".\n",
      "No data found for target \"TIC 376421071\".\n",
      "No data found for target \"TIC 448820344\".\n",
      "No data found for target \"TIC 448820344\".\n",
      "/Users/anahitasrinivasan/opt/anaconda3/lib/python3.9/site-packages/lightkurve/collections.py:212: LightkurveWarning: The following columns will be excluded from stitching because the column types are incompatible: {'kspsap_flux', 'sap_flux', 'kspsap_flux_lag', 'sap_bkg_err', 'kspsap_flux_sml', 'sap_bkg'}\n",
      "  warnings.warn(\n",
      "No data found for target \"TIC 359403471\".\n",
      "No data found for target \"TIC 359403471\".\n",
      "No data found for target \"TIC 307221757\".\n",
      "No data found for target \"TIC 296850254\".\n",
      "No data found for target \"TIC 296850254\".\n",
      "No data found for target \"TIC 35106764\".\n",
      "No data found for target \"TIC 35106764\".\n",
      "/Users/anahitasrinivasan/opt/anaconda3/lib/python3.9/site-packages/lightkurve/collections.py:212: LightkurveWarning: The following columns will be excluded from stitching because the column types are incompatible: {'kspsap_flux', 'sap_flux', 'kspsap_flux_lag', 'sap_bkg_err', 'kspsap_flux_sml', 'sap_bkg'}\n",
      "  warnings.warn(\n",
      "No data found for target \"TIC 292797572\".\n",
      "No data found for target \"TIC 292797572\".\n",
      "No data found for target \"TIC 412635642\".\n",
      "No data found for target \"TIC 412635642\".\n",
      "No data found for target \"TIC 68030406\".\n",
      "No data found for target \"TIC 68030406\".\n",
      "No data found for target \"TIC 241638905\".\n",
      "No data found for target \"TIC 241638905\".\n",
      "No data found for target \"TIC 457018819\".\n",
      "No data found for target \"TIC 457018819\".\n",
      "No data found for target \"TIC 149109125\".\n",
      "No data found for target \"TIC 149109125\".\n",
      "No data found for target \"TIC 149109125\".\n",
      "/Users/anahitasrinivasan/opt/anaconda3/lib/python3.9/site-packages/lightkurve/search.py:414: LightkurveWarning: Cannot download from an empty search result.\n",
      "  warnings.warn(\n"
     ]
    },
    {
     "name": "stdout",
     "output_type": "stream",
     "text": [
      "AttributeError occured with TIC 149109125 item 4997\n"
     ]
    },
    {
     "name": "stderr",
     "output_type": "stream",
     "text": [
      "No data found for target \"TIC 237929468\".\n",
      "Warning: 32% (408/1288) of the cadences will be ignored due to the quality mask (quality_bitmask=175).\n",
      "No data found for target \"TIC 77680373\".\n",
      "No data found for target \"TIC 166242494\".\n",
      "No data found for target \"TIC 418567812\".\n",
      "No data found for target \"TIC 418567812\".\n",
      "No data found for target \"TIC 242190195\".\n",
      "No data found for target \"TIC 242190195\".\n",
      "No data found for target \"TIC 332017079\".\n",
      "No data found for target \"TIC 332017079\".\n",
      "No data found for target \"TIC 319783554\".\n",
      "No data found for target \"TIC 319783554\".\n",
      "No data found for target \"TIC 382975217\".\n",
      "No data found for target \"TIC 382975217\".\n",
      "No data found for target \"TIC 160476088\".\n",
      "No data found for target \"TIC 160476088\".\n",
      "No data found for target \"TIC 401028336\".\n",
      "No data found for target \"TIC 401028336\".\n",
      "/Users/anahitasrinivasan/opt/anaconda3/lib/python3.9/site-packages/lightkurve/collections.py:212: LightkurveWarning: The following columns will be excluded from stitching because the column types are incompatible: {'kspsap_flux', 'sap_flux', 'kspsap_flux_lag', 'sap_bkg_err', 'kspsap_flux_sml', 'sap_bkg'}\n",
      "  warnings.warn(\n",
      "No data found for target \"TIC 245341495\".\n",
      "No data found for target \"TIC 245341495\".\n",
      "No data found for target \"TIC 448435566\".\n",
      "No data found for target \"TIC 448435566\".\n",
      "/Users/anahitasrinivasan/opt/anaconda3/lib/python3.9/site-packages/lightkurve/collections.py:212: LightkurveWarning: The following columns will be excluded from stitching because the column types are incompatible: {'kspsap_flux', 'sap_flux', 'kspsap_flux_lag', 'sap_bkg_err', 'kspsap_flux_sml', 'sap_bkg'}\n",
      "  warnings.warn(\n",
      "No data found for target \"TIC 400073524\".\n",
      "No data found for target \"TIC 400073524\".\n",
      "No data found for target \"TIC 405571798\".\n",
      "No data found for target \"TIC 405571798\".\n",
      "No data found for target \"TIC 147723246\".\n",
      "No data found for target \"TIC 147723246\".\n",
      "No data found for target \"TIC 188865842\".\n",
      "No data found for target \"TIC 188865842\".\n",
      "No data found for target \"TIC 8005485\".\n",
      "No data found for target \"TIC 8005485\".\n",
      "No data found for target \"TIC 8005485\".\n",
      "/Users/anahitasrinivasan/opt/anaconda3/lib/python3.9/site-packages/lightkurve/search.py:414: LightkurveWarning: Cannot download from an empty search result.\n",
      "  warnings.warn(\n"
     ]
    },
    {
     "name": "stdout",
     "output_type": "stream",
     "text": [
      "AttributeError occured with TIC 8005485 item 5014\n"
     ]
    },
    {
     "name": "stderr",
     "output_type": "stream",
     "text": [
      "No data found for target \"TIC 412485680\".\n",
      "No data found for target \"TIC 290337456\".\n",
      "No data found for target \"TIC 290337456\".\n",
      "No data found for target \"TIC 329672278\".\n",
      "No data found for target \"TIC 420202798\".\n",
      "No data found for target \"TIC 420202798\".\n",
      "No data found for target \"TIC 210681065\".\n",
      "No data found for target \"TIC 210681065\".\n",
      "No data found for target \"TIC 407827885\".\n",
      "No data found for target \"TIC 407827885\".\n",
      "No data found for target \"TIC 407827885\".\n",
      "/Users/anahitasrinivasan/opt/anaconda3/lib/python3.9/site-packages/lightkurve/search.py:414: LightkurveWarning: Cannot download from an empty search result.\n",
      "  warnings.warn(\n"
     ]
    },
    {
     "name": "stdout",
     "output_type": "stream",
     "text": [
      "AttributeError occured with TIC 407827885 item 5021\n"
     ]
    },
    {
     "name": "stderr",
     "output_type": "stream",
     "text": [
      "No data found for target \"TIC 406443564\".\n",
      "No data found for target \"TIC 406443564\".\n",
      "No data found for target \"TIC 129890791\".\n",
      "No data found for target \"TIC 129890791\".\n"
     ]
    },
    {
     "name": "stdout",
     "output_type": "stream",
     "text": [
      "An error occured with TIC 129890791 item 5023\n"
     ]
    },
    {
     "name": "stderr",
     "output_type": "stream",
     "text": [
      "No data found for target \"TIC 295507430\".\n",
      "No data found for target \"TIC 295507430\".\n",
      "No data found for target \"TIC 243476396\".\n",
      "No data found for target \"TIC 243476396\".\n",
      "/Users/anahitasrinivasan/opt/anaconda3/lib/python3.9/site-packages/lightkurve/lightcurve.py:1042: LightkurveWarning: The light curve appears to be zero-centered (median=1.00e+00 +/- 7.25e+00); `normalize()` will divide the light curve by a value close to zero, which is probably not what you want.\n",
      "  warnings.warn(\n",
      "No data found for target \"TIC 253961767\".\n",
      "No data found for target \"TIC 253961767\".\n",
      "No data found for target \"TIC 253961767\".\n",
      "/Users/anahitasrinivasan/opt/anaconda3/lib/python3.9/site-packages/lightkurve/search.py:414: LightkurveWarning: Cannot download from an empty search result.\n",
      "  warnings.warn(\n"
     ]
    },
    {
     "name": "stdout",
     "output_type": "stream",
     "text": [
      "AttributeError occured with TIC 253961767 item 5026\n"
     ]
    },
    {
     "name": "stderr",
     "output_type": "stream",
     "text": [
      "No data found for target \"TIC 406106335\".\n",
      "No data found for target \"TIC 406106335\".\n",
      "No data found for target \"TIC 359523751\".\n",
      "No data found for target \"TIC 359523751\".\n",
      "No data found for target \"TIC 359523751\".\n",
      "/Users/anahitasrinivasan/opt/anaconda3/lib/python3.9/site-packages/lightkurve/search.py:414: LightkurveWarning: Cannot download from an empty search result.\n",
      "  warnings.warn(\n"
     ]
    },
    {
     "name": "stdout",
     "output_type": "stream",
     "text": [
      "AttributeError occured with TIC 359523751 item 5028\n"
     ]
    },
    {
     "name": "stderr",
     "output_type": "stream",
     "text": [
      "No data found for target \"TIC 453942180\".\n",
      "No data found for target \"TIC 453942180\".\n",
      "No data found for target \"TIC 149585119\".\n",
      "No data found for target \"TIC 149585119\".\n",
      "No data found for target \"TIC 397522142\".\n",
      "No data found for target \"TIC 148478039\".\n",
      "No data found for target \"TIC 148478039\".\n",
      "No data found for target \"TIC 304085024\".\n",
      "No data found for target \"TIC 304085024\".\n",
      "No data found for target \"TIC 210629725\".\n",
      "No data found for target \"TIC 210629725\".\n",
      "No data found for target \"TIC 68081952\".\n",
      "No data found for target \"TIC 68081952\".\n",
      "No data found for target \"TIC 145204443\".\n",
      "No data found for target \"TIC 145204443\".\n",
      "No data found for target \"TIC 145204443\".\n",
      "/Users/anahitasrinivasan/opt/anaconda3/lib/python3.9/site-packages/lightkurve/search.py:414: LightkurveWarning: Cannot download from an empty search result.\n",
      "  warnings.warn(\n"
     ]
    },
    {
     "name": "stdout",
     "output_type": "stream",
     "text": [
      "AttributeError occured with TIC 145204443 item 5036\n"
     ]
    },
    {
     "name": "stderr",
     "output_type": "stream",
     "text": [
      "No data found for target \"TIC 311736478\".\n",
      "No data found for target \"TIC 200435203\".\n",
      "No data found for target \"TIC 200435203\".\n",
      "/Users/anahitasrinivasan/opt/anaconda3/lib/python3.9/site-packages/lightkurve/collections.py:212: LightkurveWarning: The following columns will be excluded from stitching because the column types are incompatible: {'kspsap_flux', 'sap_flux', 'kspsap_flux_lag', 'sap_bkg_err', 'kspsap_flux_sml', 'sap_bkg'}\n",
      "  warnings.warn(\n",
      "No data found for target \"TIC 46627476\".\n",
      "No data found for target \"TIC 46627476\".\n",
      "No data found for target \"TIC 80137654\".\n",
      "No data found for target \"TIC 80137654\".\n",
      "/Users/anahitasrinivasan/opt/anaconda3/lib/python3.9/site-packages/lightkurve/collections.py:212: LightkurveWarning: The following columns will be excluded from stitching because the column types are incompatible: {'kspsap_flux_lag'}\n",
      "  warnings.warn(\n",
      "No data found for target \"TIC 177391159\".\n",
      "No data found for target \"TIC 177391159\".\n",
      "No data found for target \"TIC 294315741\".\n",
      "No data found for target \"TIC 294315741\".\n",
      "/Users/anahitasrinivasan/opt/anaconda3/lib/python3.9/site-packages/lightkurve/search.py:414: LightkurveWarning: Cannot download from an empty search result.\n",
      "  warnings.warn(\n"
     ]
    },
    {
     "name": "stdout",
     "output_type": "stream",
     "text": [
      "AttributeError occured with TIC 294315741 item 5043\n"
     ]
    },
    {
     "name": "stderr",
     "output_type": "stream",
     "text": [
      "No data found for target \"TIC 5592720\".\n",
      "No data found for target \"TIC 5592720\".\n",
      "No data found for target \"TIC 293607057\".\n",
      "No data found for target \"TIC 445392860\".\n",
      "No data found for target \"TIC 445392860\".\n",
      "No data found for target \"TIC 445392860\".\n",
      "/Users/anahitasrinivasan/opt/anaconda3/lib/python3.9/site-packages/lightkurve/search.py:414: LightkurveWarning: Cannot download from an empty search result.\n",
      "  warnings.warn(\n"
     ]
    },
    {
     "name": "stdout",
     "output_type": "stream",
     "text": [
      "AttributeError occured with TIC 445392860 item 5046\n"
     ]
    },
    {
     "name": "stderr",
     "output_type": "stream",
     "text": [
      "No data found for target \"TIC 303385111\".\n",
      "No data found for target \"TIC 303385111\".\n",
      "No data found for target \"TIC 303385111\".\n",
      "/Users/anahitasrinivasan/opt/anaconda3/lib/python3.9/site-packages/lightkurve/search.py:414: LightkurveWarning: Cannot download from an empty search result.\n",
      "  warnings.warn(\n"
     ]
    },
    {
     "name": "stdout",
     "output_type": "stream",
     "text": [
      "AttributeError occured with TIC 303385111 item 5047\n"
     ]
    },
    {
     "name": "stderr",
     "output_type": "stream",
     "text": [
      "No data found for target \"TIC 295312916\".\n",
      "No data found for target \"TIC 295312916\".\n",
      "No data found for target \"TIC 247180220\".\n",
      "No data found for target \"TIC 247180220\".\n",
      "No data found for target \"TIC 247180220\".\n",
      "/Users/anahitasrinivasan/opt/anaconda3/lib/python3.9/site-packages/lightkurve/search.py:414: LightkurveWarning: Cannot download from an empty search result.\n",
      "  warnings.warn(\n"
     ]
    },
    {
     "name": "stdout",
     "output_type": "stream",
     "text": [
      "AttributeError occured with TIC 247180220 item 5049\n"
     ]
    },
    {
     "name": "stderr",
     "output_type": "stream",
     "text": [
      "No data found for target \"TIC 362111691\".\n",
      "No data found for target \"TIC 360221713\".\n",
      "No data found for target \"TIC 360221713\".\n",
      "No data found for target \"TIC 277128619\".\n",
      "No data found for target \"TIC 294295243\".\n",
      "No data found for target \"TIC 384709136\".\n",
      "No data found for target \"TIC 384709136\".\n",
      "No data found for target \"TIC 340624586\".\n",
      "No data found for target \"TIC 340624586\".\n",
      "No data found for target \"TIC 76228620\".\n",
      "No data found for target \"TIC 33227166\".\n",
      "No data found for target \"TIC 33227166\".\n",
      "/Users/anahitasrinivasan/opt/anaconda3/lib/python3.9/site-packages/lightkurve/search.py:414: LightkurveWarning: Cannot download from an empty search result.\n",
      "  warnings.warn(\n"
     ]
    },
    {
     "name": "stdout",
     "output_type": "stream",
     "text": [
      "AttributeError occured with TIC 33227166 item 5057\n"
     ]
    },
    {
     "name": "stderr",
     "output_type": "stream",
     "text": [
      "No data found for target \"TIC 179230828\".\n",
      "No data found for target \"TIC 179230828\".\n",
      "No data found for target \"TIC 95709395\".\n",
      "No data found for target \"TIC 95709395\".\n",
      "No data found for target \"TIC 418471116\".\n",
      "No data found for target \"TIC 418471116\".\n",
      "/Users/anahitasrinivasan/opt/anaconda3/lib/python3.9/site-packages/lightkurve/collections.py:212: LightkurveWarning: The following columns will be excluded from stitching because the column types are incompatible: {'kspsap_flux', 'sap_flux', 'kspsap_flux_lag', 'sap_bkg_err', 'kspsap_flux_sml', 'sap_bkg'}\n",
      "  warnings.warn(\n",
      "No data found for target \"TIC 301900477\".\n",
      "No data found for target \"TIC 301900477\".\n",
      "No data found for target \"TIC 384386062\".\n",
      "No data found for target \"TIC 384386062\".\n",
      "No data found for target \"TIC 282485660\".\n",
      "No data found for target \"TIC 449107129\".\n",
      "No data found for target \"TIC 449107129\".\n",
      "/Users/anahitasrinivasan/opt/anaconda3/lib/python3.9/site-packages/lightkurve/collections.py:212: LightkurveWarning: The following columns will be excluded from stitching because the column types are incompatible: {'kspsap_flux', 'sap_flux', 'kspsap_flux_lag', 'sap_bkg_err', 'kspsap_flux_sml', 'sap_bkg'}\n",
      "  warnings.warn(\n",
      "No data found for target \"TIC 424196109\".\n",
      "No data found for target \"TIC 424196109\".\n",
      "No data found for target \"TIC 424196109\".\n",
      "/Users/anahitasrinivasan/opt/anaconda3/lib/python3.9/site-packages/lightkurve/search.py:414: LightkurveWarning: Cannot download from an empty search result.\n",
      "  warnings.warn(\n"
     ]
    },
    {
     "name": "stdout",
     "output_type": "stream",
     "text": [
      "AttributeError occured with TIC 424196109 item 5066\n"
     ]
    },
    {
     "name": "stderr",
     "output_type": "stream",
     "text": [
      "No data found for target \"TIC 150531994\".\n",
      "No data found for target \"TIC 150531994\".\n",
      "No data found for target \"TIC 150531994\".\n",
      "/Users/anahitasrinivasan/opt/anaconda3/lib/python3.9/site-packages/lightkurve/search.py:414: LightkurveWarning: Cannot download from an empty search result.\n",
      "  warnings.warn(\n"
     ]
    },
    {
     "name": "stdout",
     "output_type": "stream",
     "text": [
      "AttributeError occured with TIC 150531994 item 5067\n"
     ]
    },
    {
     "name": "stderr",
     "output_type": "stream",
     "text": [
      "No data found for target \"TIC 276735500\".\n",
      "No data found for target \"TIC 276735500\".\n",
      "No data found for target \"TIC 276735500\".\n",
      "/Users/anahitasrinivasan/opt/anaconda3/lib/python3.9/site-packages/lightkurve/search.py:414: LightkurveWarning: Cannot download from an empty search result.\n",
      "  warnings.warn(\n"
     ]
    },
    {
     "name": "stdout",
     "output_type": "stream",
     "text": [
      "AttributeError occured with TIC 276735500 item 5069\n"
     ]
    },
    {
     "name": "stderr",
     "output_type": "stream",
     "text": [
      "No data found for target \"TIC 418298773\".\n",
      "No data found for target \"TIC 418298773\".\n",
      "No data found for target \"TIC 245728942\".\n",
      "No data found for target \"TIC 245728942\".\n",
      "No data found for target \"TIC 287494667\".\n",
      "No data found for target \"TIC 287494667\".\n",
      "No data found for target \"TIC 362032529\".\n",
      "No data found for target \"TIC 362032529\".\n",
      "No data found for target \"TIC 221656234\".\n",
      "No data found for target \"TIC 221656234\".\n",
      "No data found for target \"TIC 68322189\".\n",
      "No data found for target \"TIC 68322189\".\n",
      "No data found for target \"TIC 294691204\".\n",
      "No data found for target \"TIC 420829332\".\n",
      "No data found for target \"TIC 420829332\".\n",
      "No data found for target \"TIC 310266243\".\n",
      "No data found for target \"TIC 310266243\".\n",
      "No data found for target \"TIC 403405969\".\n",
      "No data found for target \"TIC 403405969\".\n",
      "No data found for target \"TIC 208772468\".\n",
      "No data found for target \"TIC 208772468\".\n",
      "No data found for target \"TIC 208772468\".\n",
      "/Users/anahitasrinivasan/opt/anaconda3/lib/python3.9/site-packages/lightkurve/search.py:414: LightkurveWarning: Cannot download from an empty search result.\n",
      "  warnings.warn(\n"
     ]
    },
    {
     "name": "stdout",
     "output_type": "stream",
     "text": [
      "AttributeError occured with TIC 208772468 item 5081\n"
     ]
    },
    {
     "name": "stderr",
     "output_type": "stream",
     "text": [
      "No data found for target \"TIC 213111428\".\n",
      "No data found for target \"TIC 213111428\".\n",
      "No data found for target \"TIC 213111428\".\n",
      "/Users/anahitasrinivasan/opt/anaconda3/lib/python3.9/site-packages/lightkurve/search.py:414: LightkurveWarning: Cannot download from an empty search result.\n",
      "  warnings.warn(\n"
     ]
    },
    {
     "name": "stdout",
     "output_type": "stream",
     "text": [
      "AttributeError occured with TIC 213111428 item 5082\n"
     ]
    },
    {
     "name": "stderr",
     "output_type": "stream",
     "text": [
      "No data found for target \"TIC 344130921\".\n",
      "No data found for target \"TIC 344130921\".\n",
      "No data found for target \"TIC 217838717\".\n",
      "No data found for target \"TIC 217838717\".\n",
      "No data found for target \"TIC 161247580\".\n",
      "No data found for target \"TIC 161247580\".\n",
      "No data found for target \"TIC 361711730\".\n",
      "No data found for target \"TIC 76894548\".\n",
      "No data found for target \"TIC 76894548\".\n",
      "No data found for target \"TIC 154400369\".\n",
      "No data found for target \"TIC 154400369\".\n",
      "/Users/anahitasrinivasan/opt/anaconda3/lib/python3.9/site-packages/lightkurve/lightcurve.py:1042: LightkurveWarning: The light curve appears to be zero-centered (median=1.00e+00 +/- 4.60e+01); `normalize()` will divide the light curve by a value close to zero, which is probably not what you want.\n",
      "  warnings.warn(\n",
      "No data found for target \"TIC 444290896\".\n",
      "No data found for target \"TIC 444290896\".\n",
      "No data found for target \"TIC 444290896\".\n",
      "/Users/anahitasrinivasan/opt/anaconda3/lib/python3.9/site-packages/lightkurve/search.py:414: LightkurveWarning: Cannot download from an empty search result.\n",
      "  warnings.warn(\n"
     ]
    },
    {
     "name": "stdout",
     "output_type": "stream",
     "text": [
      "AttributeError occured with TIC 444290896 item 5089\n"
     ]
    },
    {
     "name": "stderr",
     "output_type": "stream",
     "text": [
      "No data found for target \"TIC 46807139\".\n",
      "No data found for target \"TIC 46807139\".\n",
      "No data found for target \"TIC 283665218\".\n",
      "No data found for target \"TIC 283665218\".\n",
      "No data found for target \"TIC 306990399\".\n",
      "No data found for target \"TIC 401509690\".\n",
      "No data found for target \"TIC 401509690\".\n",
      "/Users/anahitasrinivasan/opt/anaconda3/lib/python3.9/site-packages/lightkurve/collections.py:212: LightkurveWarning: The following columns will be excluded from stitching because the column types are incompatible: {'kspsap_flux', 'sap_flux', 'kspsap_flux_lag', 'sap_bkg_err', 'kspsap_flux_sml', 'sap_bkg'}\n",
      "  warnings.warn(\n",
      "No data found for target \"TIC 406726743\".\n",
      "No data found for target \"TIC 406726743\".\n",
      "/Users/anahitasrinivasan/opt/anaconda3/lib/python3.9/site-packages/lightkurve/search.py:414: LightkurveWarning: Cannot download from an empty search result.\n",
      "  warnings.warn(\n"
     ]
    },
    {
     "name": "stdout",
     "output_type": "stream",
     "text": [
      "AttributeError occured with TIC 406726743 item 5095\n"
     ]
    },
    {
     "name": "stderr",
     "output_type": "stream",
     "text": [
      "No data found for target \"TIC 263486257\".\n",
      "No data found for target \"TIC 263486257\".\n",
      "No data found for target \"TIC 263486257\".\n",
      "/Users/anahitasrinivasan/opt/anaconda3/lib/python3.9/site-packages/lightkurve/search.py:414: LightkurveWarning: Cannot download from an empty search result.\n",
      "  warnings.warn(\n"
     ]
    },
    {
     "name": "stdout",
     "output_type": "stream",
     "text": [
      "AttributeError occured with TIC 263486257 item 5096\n"
     ]
    },
    {
     "name": "stderr",
     "output_type": "stream",
     "text": [
      "No data found for target \"TIC 127115861\".\n",
      "No data found for target \"TIC 127115861\".\n",
      "No data found for target \"TIC 127115861\".\n",
      "/Users/anahitasrinivasan/opt/anaconda3/lib/python3.9/site-packages/lightkurve/search.py:414: LightkurveWarning: Cannot download from an empty search result.\n",
      "  warnings.warn(\n"
     ]
    },
    {
     "name": "stdout",
     "output_type": "stream",
     "text": [
      "AttributeError occured with TIC 127115861 item 5097\n"
     ]
    },
    {
     "name": "stderr",
     "output_type": "stream",
     "text": [
      "No data found for target \"TIC 396649769\".\n",
      "No data found for target \"TIC 396649769\".\n",
      "No data found for target \"TIC 412828754\".\n",
      "No data found for target \"TIC 412828754\".\n",
      "No data found for target \"TIC 324609476\".\n",
      "No data found for target \"TIC 324609476\".\n",
      "No data found for target \"TIC 324609476\".\n",
      "/Users/anahitasrinivasan/opt/anaconda3/lib/python3.9/site-packages/lightkurve/search.py:414: LightkurveWarning: Cannot download from an empty search result.\n",
      "  warnings.warn(\n"
     ]
    },
    {
     "name": "stdout",
     "output_type": "stream",
     "text": [
      "AttributeError occured with TIC 324609476 item 5100\n"
     ]
    },
    {
     "name": "stderr",
     "output_type": "stream",
     "text": [
      "No data found for target \"TIC 75522633\".\n",
      "No data found for target \"TIC 75522633\".\n",
      "No data found for target \"TIC 298946836\".\n",
      "No data found for target \"TIC 298946836\".\n",
      "/Users/anahitasrinivasan/opt/anaconda3/lib/python3.9/site-packages/lightkurve/search.py:414: LightkurveWarning: Cannot download from an empty search result.\n",
      "  warnings.warn(\n"
     ]
    },
    {
     "name": "stdout",
     "output_type": "stream",
     "text": [
      "AttributeError occured with TIC 298946836 item 5103\n"
     ]
    },
    {
     "name": "stderr",
     "output_type": "stream",
     "text": [
      "No data found for target \"TIC 297950791\".\n",
      "No data found for target \"TIC 297950791\".\n",
      "No data found for target \"TIC 306512967\".\n",
      "No data found for target \"TIC 306512967\".\n",
      "/Users/anahitasrinivasan/opt/anaconda3/lib/python3.9/site-packages/lightkurve/collections.py:212: LightkurveWarning: The following columns will be excluded from stitching because the column types are incompatible: {'kspsap_flux', 'kspsap_flux_sml', 'sap_flux', 'kspsap_flux_lag'}\n",
      "  warnings.warn(\n",
      "No data found for target \"TIC 291857895\".\n",
      "No data found for target \"TIC 291857895\".\n",
      "No data found for target \"TIC 323022088\".\n",
      "No data found for target \"TIC 323022088\".\n",
      "No data found for target \"TIC 261020738\".\n",
      "No data found for target \"TIC 261020738\".\n",
      "No data found for target \"TIC 282701278\".\n",
      "No data found for target \"TIC 282701278\".\n",
      "No data found for target \"TIC 217933560\".\n",
      "No data found for target \"TIC 217933560\".\n",
      "No data found for target \"TIC 208151094\".\n",
      "No data found for target \"TIC 208151094\".\n",
      "No data found for target \"TIC 208151094\".\n",
      "/Users/anahitasrinivasan/opt/anaconda3/lib/python3.9/site-packages/lightkurve/search.py:414: LightkurveWarning: Cannot download from an empty search result.\n",
      "  warnings.warn(\n"
     ]
    },
    {
     "name": "stdout",
     "output_type": "stream",
     "text": [
      "AttributeError occured with TIC 208151094 item 5111\n"
     ]
    },
    {
     "name": "stderr",
     "output_type": "stream",
     "text": [
      "No data found for target \"TIC 324426685\".\n",
      "No data found for target \"TIC 401704685\".\n",
      "/Users/anahitasrinivasan/opt/anaconda3/lib/python3.9/site-packages/lightkurve/search.py:414: LightkurveWarning: Cannot download from an empty search result.\n",
      "  warnings.warn(\n"
     ]
    },
    {
     "name": "stdout",
     "output_type": "stream",
     "text": [
      "AttributeError occured with TIC 401704685 item 5113\n"
     ]
    },
    {
     "name": "stderr",
     "output_type": "stream",
     "text": [
      "No data found for target \"TIC 407146538\".\n",
      "No data found for target \"TIC 407146538\".\n",
      "No data found for target \"TIC 216925130\".\n",
      "No data found for target \"TIC 37291237\".\n",
      "No data found for target \"TIC 37291237\".\n",
      "No data found for target \"TIC 277034534\".\n",
      "No data found for target \"TIC 277034534\".\n",
      "No data found for target \"TIC 458027465\".\n",
      "No data found for target \"TIC 458027465\".\n",
      "No data found for target \"TIC 16264917\".\n",
      "No data found for target \"TIC 16264917\".\n",
      "No data found for target \"TIC 16264917\".\n",
      "/Users/anahitasrinivasan/opt/anaconda3/lib/python3.9/site-packages/lightkurve/search.py:414: LightkurveWarning: Cannot download from an empty search result.\n",
      "  warnings.warn(\n"
     ]
    },
    {
     "name": "stdout",
     "output_type": "stream",
     "text": [
      "AttributeError occured with TIC 16264917 item 5119\n"
     ]
    },
    {
     "name": "stderr",
     "output_type": "stream",
     "text": [
      "No data found for target \"TIC 214218272\".\n",
      "No data found for target \"TIC 214218272\".\n",
      "No data found for target \"TIC 173979859\".\n",
      "No data found for target \"TIC 173979859\".\n",
      "No data found for target \"TIC 407127579\".\n",
      "No data found for target \"TIC 56655478\".\n",
      "No data found for target \"TIC 56655478\".\n",
      "No data found for target \"TIC 56655478\".\n",
      "/Users/anahitasrinivasan/opt/anaconda3/lib/python3.9/site-packages/lightkurve/search.py:414: LightkurveWarning: Cannot download from an empty search result.\n",
      "  warnings.warn(\n"
     ]
    },
    {
     "name": "stdout",
     "output_type": "stream",
     "text": [
      "AttributeError occured with TIC 56655478 item 5125\n"
     ]
    },
    {
     "name": "stderr",
     "output_type": "stream",
     "text": [
      "No data found for target \"TIC 381360757\".\n",
      "No data found for target \"TIC 381360757\".\n",
      "No data found for target \"TIC 381360757\".\n",
      "/Users/anahitasrinivasan/opt/anaconda3/lib/python3.9/site-packages/lightkurve/search.py:414: LightkurveWarning: Cannot download from an empty search result.\n",
      "  warnings.warn(\n"
     ]
    },
    {
     "name": "stdout",
     "output_type": "stream",
     "text": [
      "AttributeError occured with TIC 381360757 item 5128\n"
     ]
    },
    {
     "name": "stderr",
     "output_type": "stream",
     "text": [
      "No data found for target \"TIC 319968129\".\n",
      "No data found for target \"TIC 319968129\".\n",
      "No data found for target \"TIC 319968129\".\n",
      "/Users/anahitasrinivasan/opt/anaconda3/lib/python3.9/site-packages/lightkurve/search.py:414: LightkurveWarning: Cannot download from an empty search result.\n",
      "  warnings.warn(\n"
     ]
    },
    {
     "name": "stdout",
     "output_type": "stream",
     "text": [
      "AttributeError occured with TIC 319968129 item 5129\n"
     ]
    },
    {
     "name": "stderr",
     "output_type": "stream",
     "text": [
      "No data found for target \"TIC 458686969\".\n",
      "No data found for target \"TIC 458686969\".\n",
      "/Users/anahitasrinivasan/opt/anaconda3/lib/python3.9/site-packages/lightkurve/search.py:414: LightkurveWarning: Cannot download from an empty search result.\n",
      "  warnings.warn(\n"
     ]
    },
    {
     "name": "stdout",
     "output_type": "stream",
     "text": [
      "AttributeError occured with TIC 458686969 item 5132\n"
     ]
    },
    {
     "name": "stderr",
     "output_type": "stream",
     "text": [
      "No data found for target \"TIC 23113034\".\n",
      "No data found for target \"TIC 23113034\".\n",
      "No data found for target \"TIC 23113034\".\n",
      "/Users/anahitasrinivasan/opt/anaconda3/lib/python3.9/site-packages/lightkurve/search.py:414: LightkurveWarning: Cannot download from an empty search result.\n",
      "  warnings.warn(\n"
     ]
    },
    {
     "name": "stdout",
     "output_type": "stream",
     "text": [
      "AttributeError occured with TIC 23113034 item 5134\n"
     ]
    },
    {
     "name": "stderr",
     "output_type": "stream",
     "text": [
      "No data found for target \"TIC 303432813\".\n",
      "No data found for target \"TIC 303432813\".\n",
      "No data found for target \"TIC 303432813\".\n",
      "/Users/anahitasrinivasan/opt/anaconda3/lib/python3.9/site-packages/lightkurve/search.py:414: LightkurveWarning: Cannot download from an empty search result.\n",
      "  warnings.warn(\n"
     ]
    },
    {
     "name": "stdout",
     "output_type": "stream",
     "text": [
      "AttributeError occured with TIC 303432813 item 5135\n"
     ]
    },
    {
     "name": "stderr",
     "output_type": "stream",
     "text": [
      "No data found for target \"TIC 87873211\".\n",
      "No data found for target \"TIC 87873211\".\n",
      "No data found for target \"TIC 87873211\".\n",
      "/Users/anahitasrinivasan/opt/anaconda3/lib/python3.9/site-packages/lightkurve/search.py:414: LightkurveWarning: Cannot download from an empty search result.\n",
      "  warnings.warn(\n"
     ]
    },
    {
     "name": "stdout",
     "output_type": "stream",
     "text": [
      "AttributeError occured with TIC 87873211 item 5136\n"
     ]
    },
    {
     "name": "stderr",
     "output_type": "stream",
     "text": [
      "No data found for target \"TIC 69672493\".\n",
      "No data found for target \"TIC 69672493\".\n",
      "No data found for target \"TIC 69672493\".\n",
      "/Users/anahitasrinivasan/opt/anaconda3/lib/python3.9/site-packages/lightkurve/search.py:414: LightkurveWarning: Cannot download from an empty search result.\n",
      "  warnings.warn(\n"
     ]
    },
    {
     "name": "stdout",
     "output_type": "stream",
     "text": [
      "AttributeError occured with TIC 69672493 item 5138\n"
     ]
    },
    {
     "name": "stderr",
     "output_type": "stream",
     "text": [
      "No data found for target \"TIC 6785559\".\n",
      "No data found for target \"TIC 6785559\".\n",
      "No data found for target \"TIC 6785559\".\n",
      "/Users/anahitasrinivasan/opt/anaconda3/lib/python3.9/site-packages/lightkurve/search.py:414: LightkurveWarning: Cannot download from an empty search result.\n",
      "  warnings.warn(\n"
     ]
    },
    {
     "name": "stdout",
     "output_type": "stream",
     "text": [
      "AttributeError occured with TIC 6785559 item 5144\n"
     ]
    },
    {
     "name": "stderr",
     "output_type": "stream",
     "text": [
      "No data found for target \"TIC 234388232\".\n",
      "No data found for target \"TIC 82508808\".\n"
     ]
    }
   ],
   "source": [
    "#NOTE: an explanation of the relevant method here is in the README file for this repository\n",
    "\n",
    "#FINAL METHOD\n",
    "#change method based on duration_hours and fractional_duration\n",
    "#change size of the phase mask\n",
    "#catch AttributeError and TimeDivisionError\n",
    "#uses minmax normalization for all curves\n",
    "#downloads .csv file of all points to a folder on computer; closes figures once completed \n",
    "\n",
    "import lightkurve as lk\n",
    "import numpy as np\n",
    "import matplotlib.pyplot as plt\n",
    "%matplotlib inline\n",
    "import csv\n",
    "\n",
    "data = \"finaldata.csv\"\n",
    "fields = []\n",
    "rows = []\n",
    "\n",
    "with open(data, 'r') as file:\n",
    "    read = csv.reader(file)\n",
    "    fields = next(read)\n",
    "    for row in read:\n",
    "        rows.append(row)\n",
    "\n",
    "path = \"/Users/anahitasrinivasan/Desktop/UROP Items/Lightcurves/\"\n",
    "author = \"\"\n",
    "\n",
    "for x in range(4800, 5163):\n",
    "    try:\n",
    "        TOI_name = \"TIC \" + rows[x][fields.index(\"TIC ID\")] \n",
    "        period = float(rows[x][fields.index(\"Period (days)\")])\n",
    "        t0 = float(rows[x][fields.index(\"Epoch (BJD)\")])\n",
    "        duration_hours = float(rows[x][fields.index(\"Duration (hours)\")])\n",
    "        fractional_duration = (duration_hours / 24.0) / period\n",
    "\n",
    "        if(duration_hours < 3.0): \n",
    "            \n",
    "            if(fractional_duration < 0.004): \n",
    "                search_result = lk.search_lightcurve(TOI_name, author=\"SPOC\", exptime=120)\n",
    "                author = \"SPOC\"\n",
    "                if(len(search_result) == 0):\n",
    "                    search_result = lk.search_lightcurve(TOI_name, author=\"TESS-SPOC\", exptime=1800)\n",
    "                    author = \"TESSSPOC\"\n",
    "                    if(len(search_result) == 0):\n",
    "                        search_result = lk.search_lightcurve(TOI_name, author=\"QLP\", exptime=1800)\n",
    "                        author = \"QLP\"\n",
    "\n",
    "                lcs = search_result.download_all() \n",
    "                lc_raw = lcs.stitch() \n",
    "\n",
    "                lc_clean = lc_raw.remove_outliers(sigma=20, sigma_upper=4) \n",
    "\n",
    "                temp_fold = lc_clean.fold(period, epoch_time=(t0-2457000))\n",
    "\n",
    "                fractional_duration = (duration_hours / 24.0) / period\n",
    "\n",
    "                phase_mask = (temp_fold.phase > -300*fractional_duration) & (temp_fold.phase < 300.0*fractional_duration)\n",
    "                lc_zoom = temp_fold[phase_mask]\n",
    "\n",
    "                lc_local = lc_zoom.bin(time_bin_size=0.0008)\n",
    "                lc_local = (lc_local - np.abs(np.nanmin(lc_local.flux))) / (np.abs(np.nanmax(lc_local.flux)) - np.abs(np.nanmin(lc_local.flux)))\n",
    "                \n",
    "                fig, axes = plt.subplots()\n",
    "                lc_local.plot(ax=axes, color=\"black\")\n",
    "                line = fig.gca().lines[0]\n",
    "                data = np.asarray([line.get_xdata(), line.get_ydata()])\n",
    "                filename = path + \"fig\" + str(x) + \"_\" + TOI_name[4:] + \"_\" + author + \".csv\"\n",
    "                np.savetxt(filename, data, delimiter=',')\n",
    "                plt.close()\n",
    "            \n",
    "            if(fractional_duration < 0.01):\n",
    "                search_result = lk.search_lightcurve(TOI_name, author=\"SPOC\", exptime=120)\n",
    "                author = \"SPOC\"\n",
    "                if(len(search_result) == 0):\n",
    "                    search_result = lk.search_lightcurve(TOI_name, author=\"TESS-SPOC\", exptime=1800)\n",
    "                    author = \"TESSSPOC\"\n",
    "                    if(len(search_result) == 0):\n",
    "                        search_result = lk.search_lightcurve(TOI_name, author=\"QLP\", exptime=1800)\n",
    "                        author = \"QLP\"\n",
    "\n",
    "                lcs = search_result.download_all() \n",
    "                lc_raw = lcs.stitch() \n",
    "\n",
    "                lc_clean = lc_raw.remove_outliers(sigma=20, sigma_upper=4) \n",
    "\n",
    "                temp_fold = lc_clean.fold(period, epoch_time=(t0-2457000))\n",
    "\n",
    "                fractional_duration = (duration_hours / 24.0) / period\n",
    "\n",
    "                phase_mask = (temp_fold.phase > -15*fractional_duration) & (temp_fold.phase < 15.0*fractional_duration)\n",
    "                lc_zoom = temp_fold[phase_mask]\n",
    "\n",
    "                lc_local = lc_zoom.bin(time_bin_size=0.0008) \n",
    "                lc_local = (lc_local - np.abs(np.nanmin(lc_local.flux))) / (np.abs(np.nanmax(lc_local.flux)) - np.abs(np.nanmin(lc_local.flux)))\n",
    "                \n",
    "                fig, axes = plt.subplots()\n",
    "                lc_local.plot(ax=axes, color=\"black\")\n",
    "                line = fig.gca().lines[0]\n",
    "                data = np.asarray([line.get_xdata(), line.get_ydata()])\n",
    "                filename = path + \"fig\" + str(x) + \"_\" + TOI_name[4:] + \"_\" + author + \".csv\"\n",
    "                np.savetxt(filename, data, delimiter=',')\n",
    "                plt.close()\n",
    "            \n",
    "            elif(fractional_duration < 0.04):\n",
    "                search_result = lk.search_lightcurve(TOI_name, author=\"SPOC\", exptime=120)\n",
    "                author = \"SPOC\"\n",
    "                if(len(search_result) == 0):\n",
    "                    search_result = lk.search_lightcurve(TOI_name, author=\"TESS-SPOC\", exptime=1800)\n",
    "                    author = \"TESSSPOC\"\n",
    "                    if(len(search_result) == 0):\n",
    "                        search_result = lk.search_lightcurve(TOI_name, author=\"QLP\", exptime=1800)\n",
    "                        author = \"QLP\"\n",
    "\n",
    "                lcs = search_result.download_all() \n",
    "                lc_raw = lcs.stitch() \n",
    "\n",
    "                lc_clean = lc_raw.remove_outliers(sigma=20, sigma_upper=4) \n",
    "\n",
    "                temp_fold = lc_clean.fold(period, epoch_time=(t0-2457000))\n",
    "\n",
    "                fractional_duration = (duration_hours / 24.0) / period\n",
    "\n",
    "                phase_mask = (temp_fold.phase > -4*fractional_duration) & (temp_fold.phase < 4.0*fractional_duration) \n",
    "                lc_zoom = temp_fold[phase_mask]\n",
    "\n",
    "                lc_local = lc_zoom.bin(time_bin_size=0.0008)\n",
    "                lc_local = (lc_local - np.abs(np.nanmin(lc_local.flux))) / (np.abs(np.nanmax(lc_local.flux)) - np.abs(np.nanmin(lc_local.flux)))\n",
    "                \n",
    "                fig, axes = plt.subplots()\n",
    "                lc_local.plot(ax=axes, color=\"black\")\n",
    "                line = fig.gca().lines[0]\n",
    "                data = np.asarray([line.get_xdata(), line.get_ydata()])\n",
    "                filename = path + \"fig\" + str(x) + \"_\" + TOI_name[4:] + \"_\" + author + \".csv\"\n",
    "                np.savetxt(filename, data, delimiter=',')\n",
    "                plt.close()\n",
    "            \n",
    "            else:\n",
    "                search_result = lk.search_lightcurve(TOI_name, author=\"TESS-SPOC\", exptime=1800)\n",
    "                author = \"TESSSPOC\"\n",
    "                if(len(search_result) == 0):\n",
    "                    search_result = lk.search_lightcurve(TOI_name, author=\"SPOC\", exptime=120)\n",
    "                    author = \"SPOC\"\n",
    "                    if(len(search_result) == 0):\n",
    "                        search_result = lk.search_lightcurve(TOI_name, author=\"QLP\", exptime=1800)\n",
    "                        author = \"QLP\"\n",
    "\n",
    "                lcs = search_result.download_all() \n",
    "                lc_raw = lcs.stitch() \n",
    "\n",
    "                lc_clean = lc_raw.remove_outliers(sigma=20, sigma_upper=4) \n",
    "\n",
    "                temp_fold = lc_clean.fold(period, epoch_time=(t0-2457000))\n",
    "\n",
    "                fractional_duration = (duration_hours / 24.0) / period\n",
    "\n",
    "                phase_mask = np.abs(temp_fold.phase.value) < (fractional_duration * 1.5)\n",
    "                transit_mask = np.in1d(lc_clean.time.value, temp_fold.time_original.value[phase_mask])\n",
    "\n",
    "                lc_flat = lc_clean.flatten(mask=transit_mask)\n",
    "\n",
    "                lc_fold = lc_flat.fold(period, epoch_time=(t0-2457000))\n",
    "\n",
    "                lc_global = lc_fold.bin(time_bin_size=0.0008)\n",
    "\n",
    "                phase_mask = (lc_fold.phase > -15*fractional_duration) & (lc_fold.phase < 15.0*fractional_duration) \n",
    "                lc_zoom = lc_fold[phase_mask]\n",
    "\n",
    "                lc_local = lc_zoom.bin(time_bin_size=0.0008)  \n",
    "                lc_local = (lc_local - np.abs(np.nanmin(lc_local.flux))) / (np.abs(np.nanmax(lc_local.flux)) - np.abs(np.nanmin(lc_local.flux)))\n",
    "\n",
    "                fig, axes = plt.subplots()\n",
    "                lc_local.plot(ax=axes, color=\"black\")\n",
    "                line = fig.gca().lines[0]\n",
    "                data = np.asarray([line.get_xdata(), line.get_ydata()])\n",
    "                filename = path + \"fig\" + str(x) + \"_\" + TOI_name[4:] + \"_\" + author + \".csv\"\n",
    "                np.savetxt(filename, data, delimiter=',')\n",
    "                plt.close()\n",
    "    \n",
    "        elif(duration_hours < 5.0):\n",
    "            search_result = lk.search_lightcurve(TOI_name, author=\"SPOC\", exptime=120)\n",
    "            author = \"SPOC\"\n",
    "            if(len(search_result) == 0):\n",
    "                search_result = lk.search_lightcurve(TOI_name, author=\"TESS-SPOC\", exptime=1800)\n",
    "                author = \"TESSSPOC\"\n",
    "                if(len(search_result) == 0):\n",
    "                    search_result = lk.search_lightcurve(TOI_name, author=\"QLP\", exptime=1800)\n",
    "                    author = \"QLP\"\n",
    "\n",
    "            lcs = search_result.download_all() \n",
    "            lc_raw = lcs.stitch() \n",
    "\n",
    "            lc_clean = lc_raw.remove_outliers(sigma=20, sigma_upper=4) \n",
    "\n",
    "            temp_fold = lc_clean.fold(period, epoch_time=(t0-2457000))\n",
    "\n",
    "            fractional_duration = (duration_hours / 24.0) / period\n",
    "\n",
    "            phase_mask = (temp_fold.phase > -25*fractional_duration) & (temp_fold.phase < 25.0*fractional_duration) \n",
    "            lc_zoom = temp_fold[phase_mask]\n",
    "\n",
    "            lc_local = lc_zoom.bin(time_bin_size=0.0008)\n",
    "            lc_local = (lc_local - np.abs(np.nanmin(lc_local.flux))) / (np.abs(np.nanmax(lc_local.flux)) - np.abs(np.nanmin(lc_local.flux)))\n",
    "            \n",
    "            fig, axes = plt.subplots()\n",
    "            lc_local.plot(ax=axes, color=\"black\")\n",
    "            line = fig.gca().lines[0]\n",
    "            data = np.asarray([line.get_xdata(), line.get_ydata()])\n",
    "            filename = path + \"fig\" + str(x) + \"_\" + TOI_name[4:] + \"_\" + author + \".csv\"\n",
    "            np.savetxt(filename, data, delimiter=',')\n",
    "            plt.close()\n",
    "        \n",
    "        else:\n",
    "            if(fractional_duration < 0.02):\n",
    "                search_result = lk.search_lightcurve(TOI_name, author=\"TESS-SPOC\", exptime=1800)\n",
    "                author = \"TESSSPOC\"\n",
    "                if(len(search_result) == 0):\n",
    "                    search_result = lk.search_lightcurve(TOI_name, author=\"SPOC\", exptime=120)\n",
    "                    author = \"SPOC\"\n",
    "                    if(len(search_result) == 0):\n",
    "                        search_result = lk.search_lightcurve(TOI_name, author=\"QLP\", exptime=1800)\n",
    "                        author = \"QLP\"\n",
    "\n",
    "                lcs = search_result.download_all() \n",
    "                lc_raw = lcs.stitch() \n",
    "\n",
    "                lc_clean = lc_raw.remove_outliers(sigma=20, sigma_upper=4) \n",
    "\n",
    "                temp_fold = lc_clean.fold(period, epoch_time=(t0-2457000))\n",
    "\n",
    "                fractional_duration = (duration_hours / 24.0) / period\n",
    "\n",
    "                phase_mask = (temp_fold.phase > -300*fractional_duration) & (temp_fold.phase < 300.0*fractional_duration)\n",
    "                lc_zoom = temp_fold[phase_mask]\n",
    "\n",
    "                lc_local = lc_zoom.bin(time_bin_size=0.0008)\n",
    "                lc_local = (lc_local - np.abs(np.nanmin(lc_local.flux))) / (np.abs(np.nanmax(lc_local.flux)) - np.abs(np.nanmin(lc_local.flux)))\n",
    "                \n",
    "                fig, axes = plt.subplots()\n",
    "                lc_local.plot(ax=axes, color=\"black\")\n",
    "                line = fig.gca().lines[0]\n",
    "                data = np.asarray([line.get_xdata(), line.get_ydata()])\n",
    "                filename = path + \"fig\" + str(x) + \"_\" + TOI_name[4:] + \"_\" + author + \".csv\"\n",
    "                np.savetxt(filename, data, delimiter=',')\n",
    "                plt.close()\n",
    "                \n",
    "            else:\n",
    "                search_result = lk.search_lightcurve(TOI_name, author=\"TESS-SPOC\", exptime=1800)\n",
    "                author = \"TESSSPOC\"\n",
    "                if(len(search_result) == 0):\n",
    "                    search_result = lk.search_lightcurve(TOI_name, author=\"SPOC\", exptime=120)\n",
    "                    author = \"SPOC\"\n",
    "                    if(len(search_result) == 0):\n",
    "                        search_result = lk.search_lightcurve(TOI_name, author=\"QLP\", exptime=1800)\n",
    "                        author = \"QLP\"\n",
    "\n",
    "                lcs = search_result.download_all() \n",
    "                lc_raw = lcs.stitch() \n",
    "\n",
    "                lc_clean = lc_raw.remove_outliers(sigma=20, sigma_upper=4) \n",
    "\n",
    "                temp_fold = lc_clean.fold(period, epoch_time=(t0-2457000))\n",
    "\n",
    "                fractional_duration = (duration_hours / 24.0) / period\n",
    "\n",
    "                phase_mask = np.abs(temp_fold.phase.value) < (fractional_duration * 1.5)\n",
    "                transit_mask = np.in1d(lc_clean.time.value, temp_fold.time_original.value[phase_mask])\n",
    "\n",
    "                lc_flat = lc_clean.flatten(mask=transit_mask)\n",
    "\n",
    "                lc_fold = lc_flat.fold(period, epoch_time=(t0-2457000))\n",
    "\n",
    "                lc_global = lc_fold.bin(time_bin_size=0.0008) \n",
    "\n",
    "                phase_mask = (lc_fold.phase > -15*fractional_duration) & (lc_fold.phase < 15.0*fractional_duration) \n",
    "                lc_zoom = lc_fold[phase_mask]\n",
    "\n",
    "                lc_local = lc_zoom.bin(time_bin_size=0.0008)  \n",
    "                lc_local = (lc_local - np.abs(np.nanmin(lc_local.flux))) / (np.abs(np.nanmax(lc_local.flux)) - np.abs(np.nanmin(lc_local.flux)))\n",
    "                \n",
    "                fig, axes = plt.subplots()\n",
    "                lc_local.plot(ax=axes, color=\"black\")\n",
    "                line = fig.gca().lines[0]\n",
    "                data = np.asarray([line.get_xdata(), line.get_ydata()])\n",
    "                filename = path + \"fig\" + str(x) + \"_\" + TOI_name[4:] + \"_\" + author + \".csv\"\n",
    "                np.savetxt(filename, data, delimiter=',')\n",
    "                plt.close()\n",
    "    \n",
    "    except AttributeError:\n",
    "        print(\"AttributeError occured with\", TOI_name, \"item\", str(x))\n",
    "    except ZeroDivisionError:\n",
    "        print(\"ZeroDivisionError occured with\", TOI_name, \"item\", str(x))\n",
    "    except:\n",
    "        print(\"An error occured with\", TOI_name, \"item\", str(x))"
   ]
  },
  {
   "cell_type": "code",
   "execution_count": 7,
   "id": "8ab27730",
   "metadata": {},
   "outputs": [
    {
     "name": "stdout",
     "output_type": "stream",
     "text": [
      "ZeroDivisionError occured with TIC 458589703 item 639\n"
     ]
    },
    {
     "name": "stderr",
     "output_type": "stream",
     "text": [
      "Warning: 30% (5871/19412) of the cadences will be ignored due to the quality mask (quality_bitmask=175).\n",
      "Warning: 30% (5871/19412) of the cadences will be ignored due to the quality mask (quality_bitmask=175).\n",
      "Warning: 30% (5871/19412) of the cadences will be ignored due to the quality mask (quality_bitmask=175).\n",
      "Warning: 30% (5871/19412) of the cadences will be ignored due to the quality mask (quality_bitmask=175).\n",
      "Warning: 30% (5871/19412) of the cadences will be ignored due to the quality mask (quality_bitmask=175).\n",
      "Warning: 30% (5871/19412) of the cadences will be ignored due to the quality mask (quality_bitmask=175).\n",
      "Warning: 30% (5871/19412) of the cadences will be ignored due to the quality mask (quality_bitmask=175).\n",
      "Warning: 30% (5871/19412) of the cadences will be ignored due to the quality mask (quality_bitmask=175).\n",
      "Warning: 30% (5871/19412) of the cadences will be ignored due to the quality mask (quality_bitmask=175).\n",
      "Warning: 30% (5871/19412) of the cadences will be ignored due to the quality mask (quality_bitmask=175).\n",
      "Warning: 30% (5871/19412) of the cadences will be ignored due to the quality mask (quality_bitmask=175).\n",
      "Warning: 30% (5871/19412) of the cadences will be ignored due to the quality mask (quality_bitmask=175).\n",
      "Warning: 30% (5871/19412) of the cadences will be ignored due to the quality mask (quality_bitmask=175).\n",
      "Warning: 30% (5871/19412) of the cadences will be ignored due to the quality mask (quality_bitmask=175).\n",
      "Warning: 30% (5871/19412) of the cadences will be ignored due to the quality mask (quality_bitmask=175).\n",
      "Warning: 30% (5871/19412) of the cadences will be ignored due to the quality mask (quality_bitmask=175).\n",
      "Warning: 30% (5871/19412) of the cadences will be ignored due to the quality mask (quality_bitmask=175).\n",
      "Warning: 30% (5871/19412) of the cadences will be ignored due to the quality mask (quality_bitmask=175).\n",
      "Warning: 30% (5871/19412) of the cadences will be ignored due to the quality mask (quality_bitmask=175).\n",
      "Warning: 30% (5871/19412) of the cadences will be ignored due to the quality mask (quality_bitmask=175).\n",
      "Warning: 30% (5871/19412) of the cadences will be ignored due to the quality mask (quality_bitmask=175).\n",
      "Warning: 30% (5871/19412) of the cadences will be ignored due to the quality mask (quality_bitmask=175).\n",
      "Warning: 30% (5871/19412) of the cadences will be ignored due to the quality mask (quality_bitmask=175).\n",
      "Warning: 30% (5871/19412) of the cadences will be ignored due to the quality mask (quality_bitmask=175).\n",
      "Warning: 30% (5871/19412) of the cadences will be ignored due to the quality mask (quality_bitmask=175).\n",
      "Warning: 30% (5871/19412) of the cadences will be ignored due to the quality mask (quality_bitmask=175).\n",
      "Warning: 30% (5871/19412) of the cadences will be ignored due to the quality mask (quality_bitmask=175).\n",
      "Warning: 30% (5871/19412) of the cadences will be ignored due to the quality mask (quality_bitmask=175).\n",
      "Warning: 30% (5871/19412) of the cadences will be ignored due to the quality mask (quality_bitmask=175).\n",
      "Warning: 30% (5871/19412) of the cadences will be ignored due to the quality mask (quality_bitmask=175).\n"
     ]
    },
    {
     "name": "stdout",
     "output_type": "stream",
     "text": [
      "ZeroDivisionError occured with TIC 144138509 item 690\n"
     ]
    },
    {
     "name": "stderr",
     "output_type": "stream",
     "text": [
      "Warning: 30% (5871/19412) of the cadences will be ignored due to the quality mask (quality_bitmask=175).\n",
      "Warning: 30% (5871/19412) of the cadences will be ignored due to the quality mask (quality_bitmask=175).\n",
      "Warning: 30% (5871/19412) of the cadences will be ignored due to the quality mask (quality_bitmask=175).\n",
      "Warning: 30% (5871/19412) of the cadences will be ignored due to the quality mask (quality_bitmask=175).\n",
      "Warning: 30% (5871/19412) of the cadences will be ignored due to the quality mask (quality_bitmask=175).\n",
      "Warning: 30% (5871/19412) of the cadences will be ignored due to the quality mask (quality_bitmask=175).\n",
      "Warning: 30% (5871/19412) of the cadences will be ignored due to the quality mask (quality_bitmask=175).\n",
      "Warning: 30% (5871/19412) of the cadences will be ignored due to the quality mask (quality_bitmask=175).\n",
      "Warning: 30% (5871/19412) of the cadences will be ignored due to the quality mask (quality_bitmask=175).\n",
      "Warning: 30% (5871/19412) of the cadences will be ignored due to the quality mask (quality_bitmask=175).\n",
      "Warning: 30% (5871/19412) of the cadences will be ignored due to the quality mask (quality_bitmask=175).\n",
      "Warning: 30% (5871/19412) of the cadences will be ignored due to the quality mask (quality_bitmask=175).\n",
      "Warning: 30% (5871/19412) of the cadences will be ignored due to the quality mask (quality_bitmask=175).\n",
      "Warning: 30% (5871/19412) of the cadences will be ignored due to the quality mask (quality_bitmask=175).\n",
      "Warning: 30% (5871/19412) of the cadences will be ignored due to the quality mask (quality_bitmask=175).\n",
      "Warning: 30% (5871/19412) of the cadences will be ignored due to the quality mask (quality_bitmask=175).\n",
      "Warning: 30% (5871/19412) of the cadences will be ignored due to the quality mask (quality_bitmask=175).\n",
      "Warning: 30% (5871/19412) of the cadences will be ignored due to the quality mask (quality_bitmask=175).\n",
      "Warning: 30% (5871/19412) of the cadences will be ignored due to the quality mask (quality_bitmask=175).\n",
      "Warning: 30% (5871/19412) of the cadences will be ignored due to the quality mask (quality_bitmask=175).\n",
      "Warning: 30% (5871/19412) of the cadences will be ignored due to the quality mask (quality_bitmask=175).\n",
      "Warning: 30% (5871/19412) of the cadences will be ignored due to the quality mask (quality_bitmask=175).\n",
      "Warning: 30% (5871/19412) of the cadences will be ignored due to the quality mask (quality_bitmask=175).\n",
      "Warning: 30% (5871/19412) of the cadences will be ignored due to the quality mask (quality_bitmask=175).\n",
      "Warning: 30% (5871/19412) of the cadences will be ignored due to the quality mask (quality_bitmask=175).\n",
      "Warning: 30% (5871/19412) of the cadences will be ignored due to the quality mask (quality_bitmask=175).\n",
      "Warning: 30% (5871/19412) of the cadences will be ignored due to the quality mask (quality_bitmask=175).\n",
      "No data found for target \"TIC 33595516\".\n",
      "Warning: 32% (408/1288) of the cadences will be ignored due to the quality mask (quality_bitmask=175).\n",
      "Warning: 30% (5871/19412) of the cadences will be ignored due to the quality mask (quality_bitmask=175).\n",
      "Warning: 30% (5871/19412) of the cadences will be ignored due to the quality mask (quality_bitmask=175).\n",
      "Warning: 30% (5871/19412) of the cadences will be ignored due to the quality mask (quality_bitmask=175).\n",
      "Warning: 30% (5871/19412) of the cadences will be ignored due to the quality mask (quality_bitmask=175).\n",
      "Warning: 30% (5871/19412) of the cadences will be ignored due to the quality mask (quality_bitmask=175).\n",
      "Warning: 30% (5871/19412) of the cadences will be ignored due to the quality mask (quality_bitmask=175).\n",
      "No data found for target \"TIC 25334160\".\n",
      "No data found for target \"TIC 25334160\".\n"
     ]
    },
    {
     "name": "stdout",
     "output_type": "stream",
     "text": [
      "ZeroDivisionError occured with TIC 124543547 item 874\n"
     ]
    },
    {
     "name": "stderr",
     "output_type": "stream",
     "text": [
      "No data found for target \"TIC 425163745\".\n",
      "<__array_function__ internals>:5: RuntimeWarning: Mean of empty slice\n",
      "<__array_function__ internals>:5: RuntimeWarning: Degrees of freedom <= 0 for slice.\n"
     ]
    },
    {
     "name": "stdout",
     "output_type": "stream",
     "text": [
      "An error occured with TIC 425163745 item 914\n"
     ]
    },
    {
     "name": "stderr",
     "output_type": "stream",
     "text": [
      "No data found for target \"TIC 262330063\".\n",
      "No data found for target \"TIC 146438872\".\n",
      "No data found for target \"TIC 146434840\".\n",
      "No data found for target \"TIC 127476180\".\n",
      "No data found for target \"TIC 425220920\".\n"
     ]
    }
   ],
   "source": [
    "#ATTEMPTING NEW METHOD WITH PICKLE IN BULK\n",
    "#SAVING THE POINTS AS A .CSV FILE\n",
    "\n",
    "#change method based on duration_hours and fractional_duration\n",
    "#change size of the phase mask\n",
    "#time bin size is changed so there are 301 points per lightcurve\n",
    "#catch AttributeError and TimeDivisionError\n",
    "#uses minmax normalization for all curves\n",
    "#downloads .csv file of all points to a folder on computer; closes figures once completed\n",
    "\n",
    "#downloads a pickle file of each lc_raw so that the data can be reused\n",
    "\n",
    "import lightkurve as lk\n",
    "import numpy as np\n",
    "import matplotlib.pyplot as plt\n",
    "%matplotlib inline\n",
    "import csv\n",
    "import pickle\n",
    "\n",
    "data = \"finaldata.csv\"\n",
    "fields = []\n",
    "rows = []\n",
    "\n",
    "with open(data, 'r') as file:\n",
    "    read = csv.reader(file)\n",
    "    fields = next(read)\n",
    "    for row in read:\n",
    "        rows.append(row)\n",
    "\n",
    "path_pickle = \"/Users/anahitasrinivasan/Desktop/UROP Items/Lightcurves_Pickle/\"\n",
    "path = \"/Users/anahitasrinivasan/Desktop/UROP Items/Lightcurves/\"\n",
    "author = \"\"\n",
    "        \n",
    "for x in range(600, 1000):\n",
    "    try:\n",
    "        TOI_name = \"TIC \" + rows[x][fields.index(\"TIC ID\")] \n",
    "        period = float(rows[x][fields.index(\"Period (days)\")])\n",
    "        t0 = float(rows[x][fields.index(\"Epoch (BJD)\")])\n",
    "        duration_hours = float(rows[x][fields.index(\"Duration (hours)\")])\n",
    "        fractional_duration = (duration_hours / 24.0) / period\n",
    "\n",
    "        search_result = lk.search_lightcurve(TOI_name, author=\"SPOC\", exptime=120)\n",
    "        author = \"SPOC\"\n",
    "        if(len(search_result) == 0):\n",
    "            search_result = lk.search_lightcurve(TOI_name, author=\"TESS-SPOC\", exptime=1800)\n",
    "            author = \"TESSSPOC\"\n",
    "            if(len(search_result) == 0):\n",
    "                search_result = lk.search_lightcurve(TOI_name, author=\"QLP\", exptime=1800)\n",
    "                author = \"QLP\"\n",
    "\n",
    "        lcs = search_result.download_all() \n",
    "        lc_raw = lcs.stitch() \n",
    "        \n",
    "        with open(path_pickle + \"fig\" + str(x) + \".pickle\", 'wb') as f:\n",
    "            pickle.dump(lc_raw, f)\n",
    "        \n",
    "        del(lc_raw)\n",
    "        \n",
    "        with open(path_pickle + \"fig\" + str(x) + \".pickle\", 'rb') as f:\n",
    "            lc_raw = pickle.load(f)\n",
    "\n",
    "        lc_clean = lc_raw.remove_outliers(sigma=20, sigma_upper=4) \n",
    "\n",
    "        temp_fold = lc_clean.fold(period, epoch_time=(t0-2457000))\n",
    "\n",
    "        fractional_duration = (duration_hours / 24.0) / period\n",
    "        \n",
    "        if(duration_hours < 3.0): \n",
    "            \n",
    "            if(fractional_duration < 0.004): \n",
    "\n",
    "                phase_mask = (temp_fold.phase > -300*fractional_duration) & (temp_fold.phase < 300.0*fractional_duration)\n",
    "                lc_zoom = temp_fold[phase_mask]\n",
    "\n",
    "                lc_local = lc_zoom.bin(time_bin_size=2*300*fractional_duration/301)\n",
    "                lc_local = (lc_local - np.abs(np.nanmin(lc_local.flux))) / (np.abs(np.nanmax(lc_local.flux)) - np.abs(np.nanmin(lc_local.flux)))\n",
    "            \n",
    "            if(fractional_duration < 0.01):\n",
    "\n",
    "                phase_mask = (temp_fold.phase > -15*fractional_duration) & (temp_fold.phase < 15.0*fractional_duration)\n",
    "                lc_zoom = temp_fold[phase_mask]\n",
    "\n",
    "                lc_local = lc_zoom.bin(time_bin_size=2*15*fractional_duration/301) \n",
    "                lc_local = (lc_local - np.abs(np.nanmin(lc_local.flux))) / (np.abs(np.nanmax(lc_local.flux)) - np.abs(np.nanmin(lc_local.flux)))\n",
    "            \n",
    "            elif(fractional_duration < 0.04):\n",
    "\n",
    "                phase_mask = (temp_fold.phase > -4*fractional_duration) & (temp_fold.phase < 4.0*fractional_duration) \n",
    "                lc_zoom = temp_fold[phase_mask]\n",
    "\n",
    "                lc_local = lc_zoom.bin(time_bin_size=2*4*fractional_duration/301)\n",
    "                lc_local = (lc_local - np.abs(np.nanmin(lc_local.flux))) / (np.abs(np.nanmax(lc_local.flux)) - np.abs(np.nanmin(lc_local.flux)))\n",
    "            \n",
    "            else:\n",
    "\n",
    "                phase_mask = np.abs(temp_fold.phase.value) < (fractional_duration * 1.5)\n",
    "                transit_mask = np.in1d(lc_clean.time.value, temp_fold.time_original.value[phase_mask])\n",
    "\n",
    "                lc_flat = lc_clean.flatten(mask=transit_mask)\n",
    "\n",
    "                lc_fold = lc_flat.fold(period, epoch_time=(t0-2457000))\n",
    "\n",
    "                phase_mask = (lc_fold.phase > -15*fractional_duration) & (lc_fold.phase < 15.0*fractional_duration) \n",
    "                lc_zoom = lc_fold[phase_mask]\n",
    "\n",
    "                lc_local = lc_zoom.bin(time_bin_size=2*15*fractional_duration/301)  \n",
    "                lc_local = (lc_local - np.abs(np.nanmin(lc_local.flux))) / (np.abs(np.nanmax(lc_local.flux)) - np.abs(np.nanmin(lc_local.flux)))\n",
    "    \n",
    "        elif(duration_hours < 5.0):\n",
    "\n",
    "            phase_mask = (temp_fold.phase > -25*fractional_duration) & (temp_fold.phase < 25.0*fractional_duration) \n",
    "            lc_zoom = temp_fold[phase_mask]\n",
    "\n",
    "            lc_local = lc_zoom.bin(time_bin_size=2*25*fractional_duration/301)\n",
    "            lc_local = (lc_local - np.abs(np.nanmin(lc_local.flux))) / (np.abs(np.nanmax(lc_local.flux)) - np.abs(np.nanmin(lc_local.flux)))\n",
    "        \n",
    "        else:\n",
    "            \n",
    "            if(fractional_duration < 0.02):\n",
    "\n",
    "                phase_mask = (temp_fold.phase > -300*fractional_duration) & (temp_fold.phase < 300.0*fractional_duration)\n",
    "                lc_zoom = temp_fold[phase_mask]\n",
    "\n",
    "                lc_local = lc_zoom.bin(time_bin_size=2*300*fractional_duration/301)\n",
    "                lc_local = (lc_local - np.abs(np.nanmin(lc_local.flux))) / (np.abs(np.nanmax(lc_local.flux)) - np.abs(np.nanmin(lc_local.flux)))\n",
    "                \n",
    "            else:\n",
    "\n",
    "                phase_mask = np.abs(temp_fold.phase.value) < (fractional_duration * 1.5)\n",
    "                transit_mask = np.in1d(lc_clean.time.value, temp_fold.time_original.value[phase_mask])\n",
    "\n",
    "                lc_flat = lc_clean.flatten(mask=transit_mask)\n",
    "\n",
    "                lc_fold = lc_flat.fold(period, epoch_time=(t0-2457000))\n",
    "\n",
    "                phase_mask = (lc_fold.phase > -15*fractional_duration) & (lc_fold.phase < 15.0*fractional_duration) \n",
    "                lc_zoom = lc_fold[phase_mask]\n",
    "\n",
    "                lc_local = lc_zoom.bin(time_bin_size=2*15*fractional_duration/301)\n",
    "                lc_local = (lc_local - np.abs(np.nanmin(lc_local.flux))) / (np.abs(np.nanmax(lc_local.flux)) - np.abs(np.nanmin(lc_local.flux)))\n",
    "            \n",
    "        fig, axes = plt.subplots()\n",
    "        lc_local.plot(ax=axes, color=\"black\")\n",
    "        line = fig.gca().lines[0]\n",
    "        data = np.asarray([line.get_xdata(), line.get_ydata()])\n",
    "        filename = path + \"fig\" + str(x) + \"_\" + TOI_name[4:] + \"_\" + author + \".csv\"\n",
    "        np.savetxt(filename, data, delimiter=',')\n",
    "        plt.close()\n",
    "        \n",
    "    except AttributeError:\n",
    "        print(\"AttributeError occured with\", TOI_name, \"item\", str(x))\n",
    "    except ZeroDivisionError:\n",
    "        print(\"ZeroDivisionError occured with\", TOI_name, \"item\", str(x))\n",
    "    except:\n",
    "        print(\"An error occured with\", TOI_name, \"item\", str(x))"
   ]
  },
  {
   "cell_type": "code",
   "execution_count": 8,
   "id": "f6cd9811",
   "metadata": {},
   "outputs": [
    {
     "name": "stdout",
     "output_type": "stream",
     "text": [
      "An error occured with TIC 47384844 item 639\n",
      "An error occured with TIC 47384844 item 690\n",
      "An error occured with TIC 47384844 item 874\n"
     ]
    }
   ],
   "source": [
    "#Same method as above cell\n",
    "#IF THE PICKLE FILE ALREADY EXISTS\n",
    "\n",
    "import lightkurve as lk\n",
    "import numpy as np\n",
    "import matplotlib.pyplot as plt\n",
    "%matplotlib inline\n",
    "import csv\n",
    "import pickle\n",
    "\n",
    "data = \"finaldata.csv\"\n",
    "fields = []\n",
    "rows = []\n",
    "\n",
    "with open(data, 'r') as file:\n",
    "    read = csv.reader(file)\n",
    "    fields = next(read)\n",
    "    for row in read:\n",
    "        rows.append(row)\n",
    "\n",
    "path_pickle = \"/Users/anahitasrinivasan/Desktop/UROP Items/Lightcurves_Pickle/\"\n",
    "path = \"/Users/anahitasrinivasan/Desktop/UROP Items/Lightcurves/\"\n",
    "path_clean = \"/Users/anahitasrinivasan/Desktop/UROP Items/Lightcurves_Clean/\"\n",
    "        \n",
    "for x in range(600, 1000):\n",
    "    try: \n",
    "        with open(path_pickle + \"fig\" + str(x) + \".pickle\", 'rb') as f:\n",
    "            lc_raw = pickle.load(f)\n",
    "\n",
    "        lc_clean = lc_raw.remove_outliers(sigma=20, sigma_upper=4) \n",
    "\n",
    "        temp_fold = lc_clean.fold(period, epoch_time=(t0-2457000))\n",
    "\n",
    "        fractional_duration = (duration_hours / 24.0) / period\n",
    "        \n",
    "        if(duration_hours < 3.0): \n",
    "            \n",
    "            if(fractional_duration < 0.004): \n",
    "\n",
    "                phase_mask = (temp_fold.phase > -300*fractional_duration) & (temp_fold.phase < 300.0*fractional_duration)\n",
    "                lc_zoom = temp_fold[phase_mask]\n",
    "\n",
    "                lc_local = lc_zoom.bin(time_bin_size=2*300*fractional_duration/301)\n",
    "                lc_local = (lc_local - np.abs(np.nanmin(lc_local.flux))) / (np.abs(np.nanmax(lc_local.flux)) - np.abs(np.nanmin(lc_local.flux)))\n",
    "            \n",
    "            if(fractional_duration < 0.01):\n",
    "\n",
    "                phase_mask = (temp_fold.phase > -15*fractional_duration) & (temp_fold.phase < 15.0*fractional_duration)\n",
    "                lc_zoom = temp_fold[phase_mask]\n",
    "\n",
    "                lc_local = lc_zoom.bin(time_bin_size=2*15*fractional_duration/301) \n",
    "                lc_local = (lc_local - np.abs(np.nanmin(lc_local.flux))) / (np.abs(np.nanmax(lc_local.flux)) - np.abs(np.nanmin(lc_local.flux)))\n",
    "            \n",
    "            elif(fractional_duration < 0.04):\n",
    "\n",
    "                phase_mask = (temp_fold.phase > -4*fractional_duration) & (temp_fold.phase < 4.0*fractional_duration) \n",
    "                lc_zoom = temp_fold[phase_mask]\n",
    "\n",
    "                lc_local = lc_zoom.bin(time_bin_size=2*4*fractional_duration/301)\n",
    "                lc_local = (lc_local - np.abs(np.nanmin(lc_local.flux))) / (np.abs(np.nanmax(lc_local.flux)) - np.abs(np.nanmin(lc_local.flux)))\n",
    "            \n",
    "            else:\n",
    "\n",
    "                phase_mask = np.abs(temp_fold.phase.value) < (fractional_duration * 1.5)\n",
    "                transit_mask = np.in1d(lc_clean.time.value, temp_fold.time_original.value[phase_mask])\n",
    "\n",
    "                lc_flat = lc_clean.flatten(mask=transit_mask)\n",
    "\n",
    "                lc_fold = lc_flat.fold(period, epoch_time=(t0-2457000))\n",
    "\n",
    "                phase_mask = (lc_fold.phase > -15*fractional_duration) & (lc_fold.phase < 15.0*fractional_duration) \n",
    "                lc_zoom = lc_fold[phase_mask]\n",
    "\n",
    "                lc_local = lc_zoom.bin(time_bin_size=2*15*fractional_duration/301)  \n",
    "                lc_local = (lc_local - np.abs(np.nanmin(lc_local.flux))) / (np.abs(np.nanmax(lc_local.flux)) - np.abs(np.nanmin(lc_local.flux)))\n",
    "    \n",
    "        elif(duration_hours < 5.0):\n",
    "\n",
    "            phase_mask = (temp_fold.phase > -25*fractional_duration) & (temp_fold.phase < 25.0*fractional_duration) \n",
    "            lc_zoom = temp_fold[phase_mask]\n",
    "\n",
    "            lc_local = lc_zoom.bin(time_bin_size=2*25*fractional_duration/301)\n",
    "            lc_local = (lc_local - np.abs(np.nanmin(lc_local.flux))) / (np.abs(np.nanmax(lc_local.flux)) - np.abs(np.nanmin(lc_local.flux)))\n",
    "        \n",
    "        else:\n",
    "            \n",
    "            if(fractional_duration < 0.02):\n",
    "\n",
    "                phase_mask = (temp_fold.phase > -300*fractional_duration) & (temp_fold.phase < 300.0*fractional_duration)\n",
    "                lc_zoom = temp_fold[phase_mask]\n",
    "\n",
    "                lc_local = lc_zoom.bin(time_bin_size=2*300*fractional_duration/301)\n",
    "                lc_local = (lc_local - np.abs(np.nanmin(lc_local.flux))) / (np.abs(np.nanmax(lc_local.flux)) - np.abs(np.nanmin(lc_local.flux)))\n",
    "                \n",
    "            else:\n",
    "\n",
    "                phase_mask = np.abs(temp_fold.phase.value) < (fractional_duration * 1.5)\n",
    "                transit_mask = np.in1d(lc_clean.time.value, temp_fold.time_original.value[phase_mask])\n",
    "\n",
    "                lc_flat = lc_clean.flatten(mask=transit_mask)\n",
    "\n",
    "                lc_fold = lc_flat.fold(period, epoch_time=(t0-2457000))\n",
    "\n",
    "                phase_mask = (lc_fold.phase > -15*fractional_duration) & (lc_fold.phase < 15.0*fractional_duration) \n",
    "                lc_zoom = lc_fold[phase_mask]\n",
    "\n",
    "                lc_local = lc_zoom.bin(time_bin_size=2*15*fractional_duration/301)\n",
    "                lc_local = (lc_local - np.abs(np.nanmin(lc_local.flux))) / (np.abs(np.nanmax(lc_local.flux)) - np.abs(np.nanmin(lc_local.flux)))\n",
    "            \n",
    "        fig, axes = plt.subplots()\n",
    "        lc_local.plot(ax=axes, color=\"black\")\n",
    "        line = fig.gca().lines[0]\n",
    "        data = np.asarray([line.get_xdata(), line.get_ydata()])\n",
    "        filename = path_clean + \"fig\" + str(x) + \".csv\"\n",
    "        np.savetxt(filename, data, delimiter=',')\n",
    "        plt.close()\n",
    "        \n",
    "    except AttributeError:\n",
    "        print(\"AttributeError occured with\", TOI_name, \"item\", str(x))\n",
    "    except ZeroDivisionError:\n",
    "        print(\"ZeroDivisionError occured with\", TOI_name, \"item\", str(x))\n",
    "    except:\n",
    "        print(\"An error occured with\", TOI_name, \"item\", str(x))"
   ]
  },
  {
   "cell_type": "code",
   "execution_count": null,
   "id": "3eea87f8",
   "metadata": {},
   "outputs": [],
   "source": []
  }
 ],
 "metadata": {
  "kernelspec": {
   "display_name": "Python 3 (ipykernel)",
   "language": "python",
   "name": "python3"
  },
  "language_info": {
   "codemirror_mode": {
    "name": "ipython",
    "version": 3
   },
   "file_extension": ".py",
   "mimetype": "text/x-python",
   "name": "python",
   "nbconvert_exporter": "python",
   "pygments_lexer": "ipython3",
   "version": "3.9.7"
  }
 },
 "nbformat": 4,
 "nbformat_minor": 5
}
